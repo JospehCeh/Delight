{
 "cells": [
  {
   "cell_type": "markdown",
   "metadata": {},
   "source": [
    "# Test Delight on DESC-DC2 simulation  in the context of  Vera C. Rubin Obs (LSST) \n",
    "\n",
    "\n",
    "- author : Sylvie Dagoret-Campagne\n",
    "- affiliation : IJCLab/IN2P3/CNRS\n",
    "- creation date : January 22 2022\n",
    "\n",
    "\n",
    "\n",
    "- run at NERSC with **desc-python** python kernel.\n",
    "\n",
    "\n",
    "Instruction to have a **desc-python** environnement:\n",
    "- https://confluence.slac.stanford.edu/display/LSSTDESC/Getting+Started+with+Anaconda+Python+at+NERSC\n",
    "\n",
    "\n",
    "This environnement is a clone from the **desc-python** environnement where package required in requirements can be addded according the instructions here\n",
    "- https://github.com/LSSTDESC/desc-python/wiki/Add-Packages-to-the-desc-python-environment"
   ]
  },
  {
   "cell_type": "markdown",
   "metadata": {},
   "source": [
    "We will use the parameter file \"tmps/parametersTestRail.cfg\".\n",
    "This contains a description of the bands and data to be used.\n",
    "In this example we will generate mock data for the ugrizy LSST bands,\n",
    "fit each object with our GP using ugi bands only and see how it predicts the rz bands.\n",
    "This is an example for filling in/predicting missing bands in a fully bayesian way\n",
    "with a flexible SED model quickly via our photo-z GP."
   ]
  },
  {
   "cell_type": "code",
   "execution_count": 1,
   "metadata": {
    "tags": []
   },
   "outputs": [],
   "source": [
    "%matplotlib inline\n",
    "import numpy as np\n",
    "import matplotlib.pyplot as plt\n",
    "import scipy.stats\n",
    "import sys,os\n",
    "sys.path.append('../')\n",
    "from delight.io import *\n",
    "from delight.utils import *\n",
    "from delight.photoz_gp import PhotozGP\n",
    "\n",
    "\n",
    "#import logging\n",
    "#import coloredlogs\n",
    "#logger = logging.getLogger(__name__)\n",
    "#coloredlogs.install(level='DEBUG', logger=logger,fmt='%(asctime)s,%(msecs)03d %(programname)s %(name)s[%(process)d] %(levelname)s %(message)s')\n",
    "\n",
    "\n",
    "#print(sys.executable)\n",
    "#print(sys.version)\n",
    "#print(sys.version_info)"
   ]
  },
  {
   "cell_type": "markdown",
   "metadata": {},
   "source": [
    "# Initialisation"
   ]
  },
  {
   "cell_type": "code",
   "execution_count": 2,
   "metadata": {},
   "outputs": [],
   "source": [
    "workdir = \"tmp\""
   ]
  },
  {
   "cell_type": "markdown",
   "metadata": {},
   "source": [
    "# Configuration parameters\n",
    "\n",
    "- now parameters are generated in a dictionnary"
   ]
  },
  {
   "cell_type": "code",
   "execution_count": 26,
   "metadata": {},
   "outputs": [],
   "source": [
    "list_of_files = os.listdir(workdir)\n",
    "list_of_files.remove('data') \n",
    "list_of_files.remove('delight_data') \n",
    "if '.ipynb_checkpoints' in list_of_files:\n",
    "    list_of_files.remove('.ipynb_checkpoints')\n",
    "list_of_configfiles = sorted(list_of_files)"
   ]
  },
  {
   "cell_type": "code",
   "execution_count": 27,
   "metadata": {},
   "outputs": [
    {
     "data": {
      "text/plain": [
       "['parametersTest-Sens.cfg',\n",
       " 'parametersTest-VC1e4_ell1e6.cfg',\n",
       " 'parametersTest-chunks.cfg',\n",
       " 'parametersTest.cfg',\n",
       " 'parametersTest_1.cfg',\n",
       " 'parametersTest_10.cfg',\n",
       " 'parametersTest_11.cfg',\n",
       " 'parametersTest_12.cfg',\n",
       " 'parametersTest_13.cfg',\n",
       " 'parametersTest_14.cfg',\n",
       " 'parametersTest_15.cfg',\n",
       " 'parametersTest_16.cfg',\n",
       " 'parametersTest_17.cfg',\n",
       " 'parametersTest_18.cfg',\n",
       " 'parametersTest_19.cfg',\n",
       " 'parametersTest_2.cfg',\n",
       " 'parametersTest_20.cfg',\n",
       " 'parametersTest_21.cfg',\n",
       " 'parametersTest_21_VC1e4.cfg',\n",
       " 'parametersTest_21_ellSig1e6.cfg',\n",
       " 'parametersTest_21_zSig2.cfg',\n",
       " 'parametersTest_3.cfg',\n",
       " 'parametersTest_4.cfg',\n",
       " 'parametersTest_5.cfg',\n",
       " 'parametersTest_6.cfg',\n",
       " 'parametersTest_7.cfg',\n",
       " 'parametersTest_8.cfg',\n",
       " 'parametersTest_9.cfg']"
      ]
     },
     "execution_count": 27,
     "metadata": {},
     "output_type": "execute_result"
    }
   ],
   "source": [
    "list_of_configfiles"
   ]
  },
  {
   "cell_type": "markdown",
   "metadata": {},
   "source": [
    "# Filters"
   ]
  },
  {
   "cell_type": "markdown",
   "metadata": {},
   "source": [
    "- First, we must **fit the band filters with a gaussian mixture**. \n",
    "This is done with this script:"
   ]
  },
  {
   "cell_type": "code",
   "execution_count": 28,
   "metadata": {},
   "outputs": [],
   "source": [
    "list_of_configfiles.remove('parametersTest-Sens.cfg')\n",
    "list_of_configfiles.remove('parametersTest_21_ellSig1e6.cfg')\n",
    "list_of_configfiles.remove('parametersTest-VC1e4_ell1e6.cfg')\n",
    "list_of_configfiles.remove('parametersTest_21_zSig2.cfg')\n",
    "list_of_configfiles.remove('parametersTest_21_VC1e4.cfg')\n",
    "list_of_configfiles.remove('parametersTest-chunks.cfg')\n",
    "#list_of_configfiles.remove('parametersTest.cfg')\n",
    "list_of_configfiles\n",
    "NCHUNKS = len(list_of_configfiles)"
   ]
  },
  {
   "cell_type": "code",
   "execution_count": 29,
   "metadata": {},
   "outputs": [
    {
     "data": {
      "text/plain": [
       "['parametersTest.cfg',\n",
       " 'parametersTest_1.cfg',\n",
       " 'parametersTest_10.cfg',\n",
       " 'parametersTest_11.cfg',\n",
       " 'parametersTest_12.cfg',\n",
       " 'parametersTest_13.cfg',\n",
       " 'parametersTest_14.cfg',\n",
       " 'parametersTest_15.cfg',\n",
       " 'parametersTest_16.cfg',\n",
       " 'parametersTest_17.cfg',\n",
       " 'parametersTest_18.cfg',\n",
       " 'parametersTest_19.cfg',\n",
       " 'parametersTest_2.cfg',\n",
       " 'parametersTest_20.cfg',\n",
       " 'parametersTest_21.cfg',\n",
       " 'parametersTest_3.cfg',\n",
       " 'parametersTest_4.cfg',\n",
       " 'parametersTest_5.cfg',\n",
       " 'parametersTest_6.cfg',\n",
       " 'parametersTest_7.cfg',\n",
       " 'parametersTest_8.cfg',\n",
       " 'parametersTest_9.cfg']"
      ]
     },
     "execution_count": 29,
     "metadata": {},
     "output_type": "execute_result"
    }
   ],
   "source": [
    "list_of_configfiles"
   ]
  },
  {
   "cell_type": "code",
   "execution_count": 30,
   "metadata": {},
   "outputs": [],
   "source": [
    "from delight.interfaces.rail.processFilters import processFilters"
   ]
  },
  {
   "cell_type": "code",
   "execution_count": 31,
   "metadata": {},
   "outputs": [
    {
     "name": "stderr",
     "output_type": "stream",
     "text": [
      "2022-03-03 11:18:17,535 ipykernel_launcher.py delight.interfaces.rail.processFilters[120] INFO ----- processFilters ------\n",
      "2022-03-03 11:18:17,538 ipykernel_launcher.py delight.interfaces.rail.processFilters[120] INFO parameter file is tmp/parametersTest.cfg\n"
     ]
    },
    {
     "name": "stdout",
     "output_type": "stream",
     "text": [
      "DC2LSST_u DC2LSST_g DC2LSST_r DC2LSST_i DC2LSST_z DC2LSST_y "
     ]
    }
   ],
   "source": [
    "#configfilename = list_of_configfiles[9]\n",
    "configfilename = 'parametersTest.cfg'\n",
    "configfullfilename = os.path.join(workdir,configfilename) \n",
    "processFilters(configfullfilename)"
   ]
  },
  {
   "cell_type": "markdown",
   "metadata": {},
   "source": [
    "# SED"
   ]
  },
  {
   "cell_type": "markdown",
   "metadata": {},
   "source": [
    "- Second, we will process the library of SEDs and project them onto the filters,\n",
    "(for the mean fct of the GP) with the following script (which may take a few minutes depending on the settings you set):"
   ]
  },
  {
   "cell_type": "code",
   "execution_count": 32,
   "metadata": {},
   "outputs": [],
   "source": [
    "from delight.interfaces.rail.processSEDs import processSEDs"
   ]
  },
  {
   "cell_type": "code",
   "execution_count": 33,
   "metadata": {},
   "outputs": [
    {
     "name": "stderr",
     "output_type": "stream",
     "text": [
      "2022-03-03 11:19:23,723 ipykernel_launcher.py, delight.interfaces.rail.processSEDs[120] INFO --- Process SED ---\n"
     ]
    }
   ],
   "source": [
    "#configfilename = list_of_configfiles[9]\n",
    "configfilename = 'parametersTest.cfg'\n",
    "configfullfilename = os.path.join(workdir,configfilename) \n",
    "processSEDs(configfullfilename)"
   ]
  },
  {
   "cell_type": "markdown",
   "metadata": {},
   "source": [
    "# Train and apply\n",
    "Run the scripts below. There should be a little bit of feedback as it is going through the lines.\n",
    "For up to 1e4 objects it should only take a few minutes max, depending on the settings above."
   ]
  },
  {
   "cell_type": "markdown",
   "metadata": {},
   "source": [
    "## Template Fitting"
   ]
  },
  {
   "cell_type": "code",
   "execution_count": 34,
   "metadata": {
    "collapsed": false,
    "jupyter": {
     "outputs_hidden": false
    }
   },
   "outputs": [],
   "source": [
    "from delight.interfaces.rail.templateFitting import templateFitting"
   ]
  },
  {
   "cell_type": "code",
   "execution_count": 35,
   "metadata": {},
   "outputs": [
    {
     "name": "stderr",
     "output_type": "stream",
     "text": [
      "2022-03-03 11:19:46,440 ipykernel_launcher.py, delight.interfaces.rail.templateFitting[120] INFO --- TEMPLATE FITTING ---\n",
      "2022-03-03 11:19:46,444 ipykernel_launcher.py, delight.interfaces.rail.templateFitting[120] INFO ==> New Prior calculation from Benitez\n",
      "2022-03-03 11:19:46,468 ipykernel_launcher.py, delight.interfaces.rail.templateFitting[120] INFO Thread number / number of threads: 1 , 1\n",
      "2022-03-03 11:19:46,469 ipykernel_launcher.py, delight.interfaces.rail.templateFitting[120] INFO Input parameter file:tmp/parametersTest_1.cfg\n",
      "2022-03-03 11:19:46,568 ipykernel_launcher.py, delight.interfaces.rail.templateFitting[120] INFO Number of Target Objects 507\n",
      "2022-03-03 11:19:46,569 ipykernel_launcher.py, delight.interfaces.rail.templateFitting[120] INFO Thread 0 , analyzes lines 0 , to 507\n",
      "2022-03-03 11:19:55,526 ipykernel_launcher.py, delight.interfaces.rail.templateFitting[120] INFO --- TEMPLATE FITTING ---\n",
      "2022-03-03 11:19:55,527 ipykernel_launcher.py, delight.interfaces.rail.templateFitting[120] INFO ==> New Prior calculation from Benitez\n",
      "2022-03-03 11:19:55,548 ipykernel_launcher.py, delight.interfaces.rail.templateFitting[120] INFO Thread number / number of threads: 1 , 1\n",
      "2022-03-03 11:19:55,549 ipykernel_launcher.py, delight.interfaces.rail.templateFitting[120] INFO Input parameter file:tmp/parametersTest_10.cfg\n",
      "2022-03-03 11:19:55,614 ipykernel_launcher.py, delight.interfaces.rail.templateFitting[120] INFO Number of Target Objects 361\n",
      "2022-03-03 11:19:55,615 ipykernel_launcher.py, delight.interfaces.rail.templateFitting[120] INFO Thread 0 , analyzes lines 0 , to 361\n",
      "2022-03-03 11:20:00,669 ipykernel_launcher.py, delight.interfaces.rail.templateFitting[120] INFO --- TEMPLATE FITTING ---\n",
      "2022-03-03 11:20:00,670 ipykernel_launcher.py, delight.interfaces.rail.templateFitting[120] INFO ==> New Prior calculation from Benitez\n",
      "2022-03-03 11:20:00,694 ipykernel_launcher.py, delight.interfaces.rail.templateFitting[120] INFO Thread number / number of threads: 1 , 1\n",
      "2022-03-03 11:20:00,695 ipykernel_launcher.py, delight.interfaces.rail.templateFitting[120] INFO Input parameter file:tmp/parametersTest_11.cfg\n",
      "2022-03-03 11:20:00,793 ipykernel_launcher.py, delight.interfaces.rail.templateFitting[120] INFO Number of Target Objects 415\n",
      "2022-03-03 11:20:00,795 ipykernel_launcher.py, delight.interfaces.rail.templateFitting[120] INFO Thread 0 , analyzes lines 0 , to 415\n",
      "2022-03-03 11:20:07,143 ipykernel_launcher.py, delight.interfaces.rail.templateFitting[120] INFO --- TEMPLATE FITTING ---\n",
      "2022-03-03 11:20:07,145 ipykernel_launcher.py, delight.interfaces.rail.templateFitting[120] INFO ==> New Prior calculation from Benitez\n",
      "2022-03-03 11:20:07,173 ipykernel_launcher.py, delight.interfaces.rail.templateFitting[120] INFO Thread number / number of threads: 1 , 1\n",
      "2022-03-03 11:20:07,175 ipykernel_launcher.py, delight.interfaces.rail.templateFitting[120] INFO Input parameter file:tmp/parametersTest_12.cfg\n",
      "2022-03-03 11:20:07,268 ipykernel_launcher.py, delight.interfaces.rail.templateFitting[120] INFO Number of Target Objects 448\n",
      "2022-03-03 11:20:07,270 ipykernel_launcher.py, delight.interfaces.rail.templateFitting[120] INFO Thread 0 , analyzes lines 0 , to 448\n",
      "2022-03-03 11:20:13,012 ipykernel_launcher.py, delight.interfaces.rail.templateFitting[120] INFO --- TEMPLATE FITTING ---\n",
      "2022-03-03 11:20:13,014 ipykernel_launcher.py, delight.interfaces.rail.templateFitting[120] INFO ==> New Prior calculation from Benitez\n",
      "2022-03-03 11:20:13,032 ipykernel_launcher.py, delight.interfaces.rail.templateFitting[120] INFO Thread number / number of threads: 1 , 1\n",
      "2022-03-03 11:20:13,033 ipykernel_launcher.py, delight.interfaces.rail.templateFitting[120] INFO Input parameter file:tmp/parametersTest_13.cfg\n",
      "2022-03-03 11:20:13,125 ipykernel_launcher.py, delight.interfaces.rail.templateFitting[120] INFO Number of Target Objects 501\n",
      "2022-03-03 11:20:13,126 ipykernel_launcher.py, delight.interfaces.rail.templateFitting[120] INFO Thread 0 , analyzes lines 0 , to 501\n",
      "2022-03-03 11:20:19,426 ipykernel_launcher.py, delight.interfaces.rail.templateFitting[120] INFO --- TEMPLATE FITTING ---\n",
      "2022-03-03 11:20:19,427 ipykernel_launcher.py, delight.interfaces.rail.templateFitting[120] INFO ==> New Prior calculation from Benitez\n",
      "2022-03-03 11:20:19,457 ipykernel_launcher.py, delight.interfaces.rail.templateFitting[120] INFO Thread number / number of threads: 1 , 1\n",
      "2022-03-03 11:20:19,458 ipykernel_launcher.py, delight.interfaces.rail.templateFitting[120] INFO Input parameter file:tmp/parametersTest_14.cfg\n",
      "2022-03-03 11:20:19,597 ipykernel_launcher.py, delight.interfaces.rail.templateFitting[120] INFO Number of Target Objects 630\n",
      "2022-03-03 11:20:19,598 ipykernel_launcher.py, delight.interfaces.rail.templateFitting[120] INFO Thread 0 , analyzes lines 0 , to 630\n",
      "2022-03-03 11:20:27,716 ipykernel_launcher.py, delight.interfaces.rail.templateFitting[120] INFO --- TEMPLATE FITTING ---\n",
      "2022-03-03 11:20:27,717 ipykernel_launcher.py, delight.interfaces.rail.templateFitting[120] INFO ==> New Prior calculation from Benitez\n",
      "2022-03-03 11:20:27,750 ipykernel_launcher.py, delight.interfaces.rail.templateFitting[120] INFO Thread number / number of threads: 1 , 1\n",
      "2022-03-03 11:20:27,751 ipykernel_launcher.py, delight.interfaces.rail.templateFitting[120] INFO Input parameter file:tmp/parametersTest_15.cfg\n",
      "2022-03-03 11:20:27,845 ipykernel_launcher.py, delight.interfaces.rail.templateFitting[120] INFO Number of Target Objects 713\n",
      "2022-03-03 11:20:27,847 ipykernel_launcher.py, delight.interfaces.rail.templateFitting[120] INFO Thread 0 , analyzes lines 0 , to 713\n",
      "2022-03-03 11:20:36,775 ipykernel_launcher.py, delight.interfaces.rail.templateFitting[120] INFO --- TEMPLATE FITTING ---\n",
      "2022-03-03 11:20:36,777 ipykernel_launcher.py, delight.interfaces.rail.templateFitting[120] INFO ==> New Prior calculation from Benitez\n",
      "2022-03-03 11:20:36,792 ipykernel_launcher.py, delight.interfaces.rail.templateFitting[120] INFO Thread number / number of threads: 1 , 1\n",
      "2022-03-03 11:20:36,793 ipykernel_launcher.py, delight.interfaces.rail.templateFitting[120] INFO Input parameter file:tmp/parametersTest_16.cfg\n",
      "2022-03-03 11:20:36,906 ipykernel_launcher.py, delight.interfaces.rail.templateFitting[120] INFO Number of Target Objects 826\n",
      "2022-03-03 11:20:36,908 ipykernel_launcher.py, delight.interfaces.rail.templateFitting[120] INFO Thread 0 , analyzes lines 0 , to 826\n",
      "2022-03-03 11:20:48,106 ipykernel_launcher.py, delight.interfaces.rail.templateFitting[120] INFO --- TEMPLATE FITTING ---\n",
      "2022-03-03 11:20:48,107 ipykernel_launcher.py, delight.interfaces.rail.templateFitting[120] INFO ==> New Prior calculation from Benitez\n",
      "2022-03-03 11:20:48,140 ipykernel_launcher.py, delight.interfaces.rail.templateFitting[120] INFO Thread number / number of threads: 1 , 1\n",
      "2022-03-03 11:20:48,141 ipykernel_launcher.py, delight.interfaces.rail.templateFitting[120] INFO Input parameter file:tmp/parametersTest_17.cfg\n",
      "2022-03-03 11:20:48,255 ipykernel_launcher.py, delight.interfaces.rail.templateFitting[120] INFO Number of Target Objects 830\n",
      "2022-03-03 11:20:48,256 ipykernel_launcher.py, delight.interfaces.rail.templateFitting[120] INFO Thread 0 , analyzes lines 0 , to 830\n",
      "2022-03-03 11:20:58,118 ipykernel_launcher.py, delight.interfaces.rail.templateFitting[120] INFO --- TEMPLATE FITTING ---\n",
      "2022-03-03 11:20:58,119 ipykernel_launcher.py, delight.interfaces.rail.templateFitting[120] INFO ==> New Prior calculation from Benitez\n",
      "2022-03-03 11:20:58,155 ipykernel_launcher.py, delight.interfaces.rail.templateFitting[120] INFO Thread number / number of threads: 1 , 1\n",
      "2022-03-03 11:20:58,157 ipykernel_launcher.py, delight.interfaces.rail.templateFitting[120] INFO Input parameter file:tmp/parametersTest_18.cfg\n",
      "2022-03-03 11:20:58,263 ipykernel_launcher.py, delight.interfaces.rail.templateFitting[120] INFO Number of Target Objects 826\n",
      "2022-03-03 11:20:58,264 ipykernel_launcher.py, delight.interfaces.rail.templateFitting[120] INFO Thread 0 , analyzes lines 0 , to 826\n",
      "2022-03-03 11:21:07,285 ipykernel_launcher.py, delight.interfaces.rail.templateFitting[120] INFO --- TEMPLATE FITTING ---\n",
      "2022-03-03 11:21:07,287 ipykernel_launcher.py, delight.interfaces.rail.templateFitting[120] INFO ==> New Prior calculation from Benitez\n",
      "2022-03-03 11:21:07,309 ipykernel_launcher.py, delight.interfaces.rail.templateFitting[120] INFO Thread number / number of threads: 1 , 1\n",
      "2022-03-03 11:21:07,311 ipykernel_launcher.py, delight.interfaces.rail.templateFitting[120] INFO Input parameter file:tmp/parametersTest_19.cfg\n",
      "2022-03-03 11:21:07,437 ipykernel_launcher.py, delight.interfaces.rail.templateFitting[120] INFO Number of Target Objects 854\n",
      "2022-03-03 11:21:07,439 ipykernel_launcher.py, delight.interfaces.rail.templateFitting[120] INFO Thread 0 , analyzes lines 0 , to 854\n",
      "2022-03-03 11:21:16,405 ipykernel_launcher.py, delight.interfaces.rail.templateFitting[120] INFO --- TEMPLATE FITTING ---\n",
      "2022-03-03 11:21:16,406 ipykernel_launcher.py, delight.interfaces.rail.templateFitting[120] INFO ==> New Prior calculation from Benitez\n",
      "2022-03-03 11:21:16,430 ipykernel_launcher.py, delight.interfaces.rail.templateFitting[120] INFO Thread number / number of threads: 1 , 1\n",
      "2022-03-03 11:21:16,431 ipykernel_launcher.py, delight.interfaces.rail.templateFitting[120] INFO Input parameter file:tmp/parametersTest_2.cfg\n",
      "2022-03-03 11:21:16,514 ipykernel_launcher.py, delight.interfaces.rail.templateFitting[120] INFO Number of Target Objects 402\n",
      "2022-03-03 11:21:16,516 ipykernel_launcher.py, delight.interfaces.rail.templateFitting[120] INFO Thread 0 , analyzes lines 0 , to 402\n",
      "2022-03-03 11:21:23,848 ipykernel_launcher.py, delight.interfaces.rail.templateFitting[120] INFO --- TEMPLATE FITTING ---\n",
      "2022-03-03 11:21:23,850 ipykernel_launcher.py, delight.interfaces.rail.templateFitting[120] INFO ==> New Prior calculation from Benitez\n",
      "2022-03-03 11:21:23,874 ipykernel_launcher.py, delight.interfaces.rail.templateFitting[120] INFO Thread number / number of threads: 1 , 1\n",
      "2022-03-03 11:21:23,875 ipykernel_launcher.py, delight.interfaces.rail.templateFitting[120] INFO Input parameter file:tmp/parametersTest_20.cfg\n",
      "2022-03-03 11:21:23,988 ipykernel_launcher.py, delight.interfaces.rail.templateFitting[120] INFO Number of Target Objects 900\n",
      "2022-03-03 11:21:23,989 ipykernel_launcher.py, delight.interfaces.rail.templateFitting[120] INFO Thread 0 , analyzes lines 0 , to 900\n",
      "2022-03-03 11:21:33,193 ipykernel_launcher.py, delight.interfaces.rail.templateFitting[120] INFO --- TEMPLATE FITTING ---\n",
      "2022-03-03 11:21:33,195 ipykernel_launcher.py, delight.interfaces.rail.templateFitting[120] INFO ==> New Prior calculation from Benitez\n",
      "2022-03-03 11:21:33,213 ipykernel_launcher.py, delight.interfaces.rail.templateFitting[120] INFO Thread number / number of threads: 1 , 1\n",
      "2022-03-03 11:21:33,214 ipykernel_launcher.py, delight.interfaces.rail.templateFitting[120] INFO Input parameter file:tmp/parametersTest_21.cfg\n",
      "2022-03-03 11:21:33,262 ipykernel_launcher.py, delight.interfaces.rail.templateFitting[120] INFO Number of Target Objects 317\n",
      "2022-03-03 11:21:33,263 ipykernel_launcher.py, delight.interfaces.rail.templateFitting[120] INFO Thread 0 , analyzes lines 0 , to 317\n",
      "2022-03-03 11:21:36,407 ipykernel_launcher.py, delight.interfaces.rail.templateFitting[120] INFO --- TEMPLATE FITTING ---\n",
      "2022-03-03 11:21:36,409 ipykernel_launcher.py, delight.interfaces.rail.templateFitting[120] INFO ==> New Prior calculation from Benitez\n",
      "2022-03-03 11:21:36,433 ipykernel_launcher.py, delight.interfaces.rail.templateFitting[120] INFO Thread number / number of threads: 1 , 1\n",
      "2022-03-03 11:21:36,434 ipykernel_launcher.py, delight.interfaces.rail.templateFitting[120] INFO Input parameter file:tmp/parametersTest_3.cfg\n",
      "2022-03-03 11:21:36,528 ipykernel_launcher.py, delight.interfaces.rail.templateFitting[120] INFO Number of Target Objects 388\n",
      "2022-03-03 11:21:36,530 ipykernel_launcher.py, delight.interfaces.rail.templateFitting[120] INFO Thread 0 , analyzes lines 0 , to 388\n",
      "2022-03-03 11:21:43,722 ipykernel_launcher.py, delight.interfaces.rail.templateFitting[120] INFO --- TEMPLATE FITTING ---\n",
      "2022-03-03 11:21:43,724 ipykernel_launcher.py, delight.interfaces.rail.templateFitting[120] INFO ==> New Prior calculation from Benitez\n",
      "2022-03-03 11:21:43,737 ipykernel_launcher.py, delight.interfaces.rail.templateFitting[120] INFO Thread number / number of threads: 1 , 1\n",
      "2022-03-03 11:21:43,738 ipykernel_launcher.py, delight.interfaces.rail.templateFitting[120] INFO Input parameter file:tmp/parametersTest_4.cfg\n",
      "2022-03-03 11:21:43,793 ipykernel_launcher.py, delight.interfaces.rail.templateFitting[120] INFO Number of Target Objects 307\n",
      "2022-03-03 11:21:43,794 ipykernel_launcher.py, delight.interfaces.rail.templateFitting[120] INFO Thread 0 , analyzes lines 0 , to 307\n",
      "2022-03-03 11:21:49,463 ipykernel_launcher.py, delight.interfaces.rail.templateFitting[120] INFO --- TEMPLATE FITTING ---\n",
      "2022-03-03 11:21:49,464 ipykernel_launcher.py, delight.interfaces.rail.templateFitting[120] INFO ==> New Prior calculation from Benitez\n",
      "2022-03-03 11:21:49,487 ipykernel_launcher.py, delight.interfaces.rail.templateFitting[120] INFO Thread number / number of threads: 1 , 1\n",
      "2022-03-03 11:21:49,488 ipykernel_launcher.py, delight.interfaces.rail.templateFitting[120] INFO Input parameter file:tmp/parametersTest_5.cfg\n",
      "2022-03-03 11:21:49,547 ipykernel_launcher.py, delight.interfaces.rail.templateFitting[120] INFO Number of Target Objects 286\n",
      "2022-03-03 11:21:49,548 ipykernel_launcher.py, delight.interfaces.rail.templateFitting[120] INFO Thread 0 , analyzes lines 0 , to 286\n",
      "2022-03-03 11:21:54,682 ipykernel_launcher.py, delight.interfaces.rail.templateFitting[120] INFO --- TEMPLATE FITTING ---\n",
      "2022-03-03 11:21:54,683 ipykernel_launcher.py, delight.interfaces.rail.templateFitting[120] INFO ==> New Prior calculation from Benitez\n",
      "2022-03-03 11:21:54,699 ipykernel_launcher.py, delight.interfaces.rail.templateFitting[120] INFO Thread number / number of threads: 1 , 1\n",
      "2022-03-03 11:21:54,700 ipykernel_launcher.py, delight.interfaces.rail.templateFitting[120] INFO Input parameter file:tmp/parametersTest_6.cfg\n",
      "2022-03-03 11:21:54,803 ipykernel_launcher.py, delight.interfaces.rail.templateFitting[120] INFO Number of Target Objects 257\n",
      "2022-03-03 11:21:54,804 ipykernel_launcher.py, delight.interfaces.rail.templateFitting[120] INFO Thread 0 , analyzes lines 0 , to 257\n",
      "2022-03-03 11:21:59,544 ipykernel_launcher.py, delight.interfaces.rail.templateFitting[120] INFO --- TEMPLATE FITTING ---\n",
      "2022-03-03 11:21:59,546 ipykernel_launcher.py, delight.interfaces.rail.templateFitting[120] INFO ==> New Prior calculation from Benitez\n",
      "2022-03-03 11:21:59,573 ipykernel_launcher.py, delight.interfaces.rail.templateFitting[120] INFO Thread number / number of threads: 1 , 1\n",
      "2022-03-03 11:21:59,574 ipykernel_launcher.py, delight.interfaces.rail.templateFitting[120] INFO Input parameter file:tmp/parametersTest_7.cfg\n",
      "2022-03-03 11:21:59,626 ipykernel_launcher.py, delight.interfaces.rail.templateFitting[120] INFO Number of Target Objects 314\n",
      "2022-03-03 11:21:59,627 ipykernel_launcher.py, delight.interfaces.rail.templateFitting[120] INFO Thread 0 , analyzes lines 0 , to 314\n",
      "2022-03-03 11:22:04,828 ipykernel_launcher.py, delight.interfaces.rail.templateFitting[120] INFO --- TEMPLATE FITTING ---\n",
      "2022-03-03 11:22:04,830 ipykernel_launcher.py, delight.interfaces.rail.templateFitting[120] INFO ==> New Prior calculation from Benitez\n",
      "2022-03-03 11:22:04,862 ipykernel_launcher.py, delight.interfaces.rail.templateFitting[120] INFO Thread number / number of threads: 1 , 1\n",
      "2022-03-03 11:22:04,863 ipykernel_launcher.py, delight.interfaces.rail.templateFitting[120] INFO Input parameter file:tmp/parametersTest_8.cfg\n",
      "2022-03-03 11:22:04,914 ipykernel_launcher.py, delight.interfaces.rail.templateFitting[120] INFO Number of Target Objects 288\n",
      "2022-03-03 11:22:04,914 ipykernel_launcher.py, delight.interfaces.rail.templateFitting[120] INFO Thread 0 , analyzes lines 0 , to 288\n",
      "2022-03-03 11:22:09,435 ipykernel_launcher.py, delight.interfaces.rail.templateFitting[120] INFO --- TEMPLATE FITTING ---\n",
      "2022-03-03 11:22:09,437 ipykernel_launcher.py, delight.interfaces.rail.templateFitting[120] INFO ==> New Prior calculation from Benitez\n",
      "2022-03-03 11:22:09,460 ipykernel_launcher.py, delight.interfaces.rail.templateFitting[120] INFO Thread number / number of threads: 1 , 1\n",
      "2022-03-03 11:22:09,462 ipykernel_launcher.py, delight.interfaces.rail.templateFitting[120] INFO Input parameter file:tmp/parametersTest_9.cfg\n",
      "2022-03-03 11:22:09,537 ipykernel_launcher.py, delight.interfaces.rail.templateFitting[120] INFO Number of Target Objects 322\n",
      "2022-03-03 11:22:09,539 ipykernel_launcher.py, delight.interfaces.rail.templateFitting[120] INFO Thread 0 , analyzes lines 0 , to 322\n"
     ]
    }
   ],
   "source": [
    "for idx_file in range(1,NCHUNKS):\n",
    "    theconfigfile = list_of_configfiles[idx_file]\n",
    "    configfullfilename = os.path.join(workdir,theconfigfile) \n",
    "    templateFitting(configfullfilename)"
   ]
  },
  {
   "cell_type": "markdown",
   "metadata": {},
   "source": [
    "## Gaussian Process"
   ]
  },
  {
   "cell_type": "markdown",
   "metadata": {},
   "source": [
    "### Training"
   ]
  },
  {
   "cell_type": "code",
   "execution_count": 36,
   "metadata": {},
   "outputs": [],
   "source": [
    "from delight.interfaces.rail.delightLearn import delightLearn"
   ]
  },
  {
   "cell_type": "code",
   "execution_count": 37,
   "metadata": {},
   "outputs": [
    {
     "name": "stderr",
     "output_type": "stream",
     "text": [
      "2022-03-03 11:30:07,508 ipykernel_launcher.py, delight.interfaces.rail.delightLearn[120] INFO --- DELIGHT-LEARN ---\n",
      "2022-03-03 11:30:07,664 ipykernel_launcher.py, delight.interfaces.rail.delightLearn[120] INFO Number of Training Objects 3755\n",
      "2022-03-03 11:30:07,665 ipykernel_launcher.py, delight.interfaces.rail.delightLearn[120] INFO Thread 0 , analyzes lines 0 , to 3755\n"
     ]
    }
   ],
   "source": [
    "delightLearn(configfullfilename)"
   ]
  },
  {
   "cell_type": "markdown",
   "metadata": {},
   "source": [
    "### Predictions"
   ]
  },
  {
   "cell_type": "code",
   "execution_count": 38,
   "metadata": {},
   "outputs": [],
   "source": [
    "from delightApply_paramSpecPlot import delightApply_paramSpecPlot"
   ]
  },
  {
   "cell_type": "code",
   "execution_count": null,
   "metadata": {},
   "outputs": [
    {
     "name": "stderr",
     "output_type": "stream",
     "text": [
      "2022-03-03 11:31:09,353 ipykernel_launcher.py, delightApply_paramSpecPlot[120] INFO --- DELIGHT-APPLY ---\n",
      "2022-03-03 11:31:09,497 ipykernel_launcher.py, delightApply_paramSpecPlot[120] INFO Number of Training Objects 3755\n",
      "2022-03-03 11:31:09,498 ipykernel_launcher.py, delightApply_paramSpecPlot[120] INFO Number of Target Objects 507\n",
      "2022-03-03 11:31:09,500 ipykernel_launcher.py, delightApply_paramSpecPlot[120] INFO Thread 0 , analyzes lines 0 to 507\n"
     ]
    },
    {
     "name": "stdout",
     "output_type": "stream",
     "text": [
      "Creation of GP with V_C = 0.1, V_L = 0.1, alpha_C = 1000.0, alpha_L = 100.0.\n",
      "0 1.5922315120697021 0.21372175216674805 0.022856950759887695\n",
      "100 1.3619506359100342 0.007479429244995117 0.016587018966674805\n",
      "200 1.4453330039978027 0.007077693939208984 0.011363744735717773\n",
      "300 1.3175082206726074 0.009799003601074219 0.03526139259338379\n",
      "400 1.3937859535217285 0.007157564163208008 0.009971141815185547\n",
      "500 1.357985258102417 0.01002645492553711 0.027922391891479492\n"
     ]
    },
    {
     "name": "stderr",
     "output_type": "stream",
     "text": [
      "2022-03-03 11:48:15,270 ipykernel_launcher.py, delightApply_paramSpecPlot[120] INFO --- DELIGHT-APPLY ---\n",
      "2022-03-03 11:48:15,394 ipykernel_launcher.py, delightApply_paramSpecPlot[120] INFO Number of Training Objects 3755\n",
      "2022-03-03 11:48:15,395 ipykernel_launcher.py, delightApply_paramSpecPlot[120] INFO Number of Target Objects 361\n",
      "2022-03-03 11:48:15,397 ipykernel_launcher.py, delightApply_paramSpecPlot[120] INFO Thread 0 , analyzes lines 0 to 361\n"
     ]
    },
    {
     "name": "stdout",
     "output_type": "stream",
     "text": [
      "Creation of GP with V_C = 0.1, V_L = 0.1, alpha_C = 1000.0, alpha_L = 100.0.\n",
      "0 1.433784008026123 0.2128615379333496 0.011075496673583984\n",
      "100 1.841963529586792 0.007154703140258789 0.009349584579467773\n",
      "200 1.6180930137634277 0.009661197662353516 0.014428377151489258\n",
      "300 1.3683655261993408 0.006735801696777344 0.012829065322875977\n"
     ]
    },
    {
     "name": "stderr",
     "output_type": "stream",
     "text": [
      "2022-03-03 12:02:47,770 ipykernel_launcher.py, delightApply_paramSpecPlot[120] INFO --- DELIGHT-APPLY ---\n",
      "2022-03-03 12:02:47,872 ipykernel_launcher.py, delightApply_paramSpecPlot[120] INFO Number of Training Objects 3755\n",
      "2022-03-03 12:02:47,873 ipykernel_launcher.py, delightApply_paramSpecPlot[120] INFO Number of Target Objects 415\n",
      "2022-03-03 12:02:47,874 ipykernel_launcher.py, delightApply_paramSpecPlot[120] INFO Thread 0 , analyzes lines 0 to 415\n"
     ]
    },
    {
     "name": "stdout",
     "output_type": "stream",
     "text": [
      "Creation of GP with V_C = 0.1, V_L = 0.1, alpha_C = 1000.0, alpha_L = 100.0.\n",
      "0 1.4374268054962158 0.20329952239990234 0.023406505584716797\n",
      "100 1.5101242065429688 0.008993387222290039 0.019840478897094727\n",
      "200 1.4203197956085205 0.009018659591674805 0.02262091636657715\n",
      "300 1.417372703552246 0.00846719741821289 0.01998615264892578\n",
      "400 1.3070333003997803 0.007408618927001953 0.007936954498291016\n"
     ]
    },
    {
     "name": "stderr",
     "output_type": "stream",
     "text": [
      "2022-03-03 12:16:45,558 ipykernel_launcher.py, delightApply_paramSpecPlot[120] INFO --- DELIGHT-APPLY ---\n",
      "2022-03-03 12:16:45,721 ipykernel_launcher.py, delightApply_paramSpecPlot[120] INFO Number of Training Objects 3755\n",
      "2022-03-03 12:16:45,722 ipykernel_launcher.py, delightApply_paramSpecPlot[120] INFO Number of Target Objects 448\n",
      "2022-03-03 12:16:45,724 ipykernel_launcher.py, delightApply_paramSpecPlot[120] INFO Thread 0 , analyzes lines 0 to 448\n"
     ]
    },
    {
     "name": "stdout",
     "output_type": "stream",
     "text": [
      "Creation of GP with V_C = 0.1, V_L = 0.1, alpha_C = 1000.0, alpha_L = 100.0.\n",
      "0 1.5962090492248535 0.18529367446899414 0.007731199264526367\n",
      "100 1.3102612495422363 0.007312297821044922 0.008687496185302734\n",
      "200 1.3821239471435547 0.006745576858520508 0.008297920227050781\n",
      "300 1.4333915710449219 0.0066127777099609375 0.008762359619140625\n",
      "400 1.6059815883636475 0.007334232330322266 0.008607864379882812\n"
     ]
    },
    {
     "name": "stderr",
     "output_type": "stream",
     "text": [
      "2022-03-03 12:31:49,893 ipykernel_launcher.py, delightApply_paramSpecPlot[120] INFO --- DELIGHT-APPLY ---\n",
      "2022-03-03 12:31:50,020 ipykernel_launcher.py, delightApply_paramSpecPlot[120] INFO Number of Training Objects 3755\n",
      "2022-03-03 12:31:50,021 ipykernel_launcher.py, delightApply_paramSpecPlot[120] INFO Number of Target Objects 501\n",
      "2022-03-03 12:31:50,022 ipykernel_launcher.py, delightApply_paramSpecPlot[120] INFO Thread 0 , analyzes lines 0 to 501\n"
     ]
    },
    {
     "name": "stdout",
     "output_type": "stream",
     "text": [
      "Creation of GP with V_C = 0.1, V_L = 0.1, alpha_C = 1000.0, alpha_L = 100.0.\n"
     ]
    }
   ],
   "source": [
    "for idx_file in range(1,NCHUNKS):\n",
    "    theconfigfile = list_of_configfiles[idx_file]\n",
    "    configfullfilename = os.path.join(workdir,theconfigfile) \n",
    "    delightApply_paramSpecPlot(configfullfilename, plot=False, sensitivity=False)"
   ]
  },
  {
   "cell_type": "markdown",
   "metadata": {},
   "source": [
    "# Analyze the outputs"
   ]
  },
  {
   "cell_type": "code",
   "execution_count": null,
   "metadata": {},
   "outputs": [],
   "source": [
    "# First read a bunch of useful stuff from the parameter file.\n",
    "params = parseParamFile(configfullfilename, verbose=False)\n",
    "bandCoefAmplitudes, bandCoefPositions, bandCoefWidths, norms\\\n",
    "    = readBandCoefficients(params)\n",
    "bandNames = params['bandNames']\n",
    "numBands, numCoefs = bandCoefAmplitudes.shape\n",
    "fluxredshifts = np.loadtxt(params['target_catFile'])\n",
    "fluxredshifts_train = np.loadtxt(params['training_catFile'])\n",
    "bandIndices, bandNames, bandColumns, bandVarColumns, redshiftColumn,\\\n",
    "            refBandColumn = readColumnPositions(params, prefix='target_')\n",
    "redshiftDistGrid, redshiftGrid, redshiftGridGP = createGrids(params)\n",
    "dir_seds = params['templates_directory']\n",
    "dir_filters = params['bands_directory']\n",
    "lambdaRef = params['lambdaRef']\n",
    "sed_names = params['templates_names']\n",
    "nt = len(sed_names)\n",
    "f_mod = np.zeros((redshiftGrid.size, nt, len(params['bandNames'])))\n",
    "for t, sed_name in enumerate(sed_names):\n",
    "    f_mod[:, t, :] = np.loadtxt(dir_seds + '/' + sed_name + '_fluxredshiftmod.txt')"
   ]
  },
  {
   "cell_type": "code",
   "execution_count": null,
   "metadata": {
    "collapsed": false,
    "jupyter": {
     "outputs_hidden": false
    }
   },
   "outputs": [],
   "source": [
    "# Load the PDF files\n",
    "metrics = np.loadtxt(params['metricsFile'])\n",
    "metricscww = np.loadtxt(params['metricsFileTemp'])\n",
    "# Those of the indices of the true, mean, stdev, map, and map_std redshifts.\n",
    "i_zt, i_zm, i_std_zm, i_zmap, i_std_zmap = 0, 1, 2, 3, 4\n",
    "i_ze = i_zm\n",
    "i_std_ze = i_std_zm\n",
    "\n",
    "pdfs = np.loadtxt(params['redshiftpdfFile'])\n",
    "pdfs_cww = np.loadtxt(params['redshiftpdfFileTemp'])\n",
    "pdfatZ_cww = metricscww[:, 5] / pdfs_cww.max(axis=1)\n",
    "pdfatZ = metrics[:, 5] / pdfs.max(axis=1)\n",
    "nobj = pdfatZ.size\n",
    "#pdfs /= pdfs.max(axis=1)[:, None]\n",
    "#pdfs_cww /= pdfs_cww.max(axis=1)[:, None]\n",
    "pdfs /= np.trapz(pdfs, x=redshiftGrid, axis=1)[:, None]\n",
    "pdfs_cww /= np.trapz(pdfs_cww, x=redshiftGrid, axis=1)[:, None]"
   ]
  },
  {
   "cell_type": "code",
   "execution_count": null,
   "metadata": {
    "collapsed": false,
    "jupyter": {
     "outputs_hidden": false
    }
   },
   "outputs": [],
   "source": [
    "ncol = 4\n",
    "fig, axs = plt.subplots(5, ncol, figsize=(12, 12), sharex=True, sharey=False)\n",
    "axs = axs.ravel()\n",
    "z = fluxredshifts[:, redshiftColumn]\n",
    "sel = np.random.choice(nobj, axs.size, replace=False)\n",
    "lw = 2\n",
    "for ik in range(axs.size):\n",
    "    k = sel[ik]\n",
    "    print(k, end=\" \")\n",
    "    axs[ik].plot(redshiftGrid, pdfs_cww[k, :],lw=lw, label='Standard template fitting')# c=\"#2ecc71\", \n",
    "    axs[ik].plot(redshiftGrid, pdfs[k, :], lw=lw, label='New method')  #, c=\"#3498db\"\n",
    "    axs[ik].axvline(fluxredshifts[k, redshiftColumn], c=\"k\", lw=1, label='Spec-z')\n",
    "    ymax = np.max(np.concatenate((pdfs[k, :], pdfs_cww[k, :])))\n",
    "    axs[ik].set_ylim([0, ymax*1.2])\n",
    "    axs[ik].set_xlim([0, 3.1])\n",
    "    axs[ik].set_yticks([])\n",
    "    axs[ik].set_xticks([0.0, 0.2, 0.4, 0.6, 0.8, 1.0, 1.2, 1.4])\n",
    "for i in range(ncol):\n",
    "    axs[-i-1].set_xlabel('Redshift', fontsize=10)\n",
    "axs[0].legend(ncol=3, frameon=False, loc='upper left', bbox_to_anchor=(0.0, 1.4))\n",
    "#fig.tight_layout()\n",
    "#fig.subplots_adjust(wspace=0.1, hspace=0.1, top=0.96)\n"
   ]
  },
  {
   "cell_type": "code",
   "execution_count": null,
   "metadata": {
    "collapsed": false,
    "jupyter": {
     "outputs_hidden": false
    }
   },
   "outputs": [],
   "source": [
    "fig, axs = plt.subplots(2, 2, figsize=(12, 12))\n",
    "zmax = 3.1\n",
    "rr = [[0, zmax], [0, zmax]]\n",
    "nbins = 30\n",
    "h = axs[0, 0].hist2d(metricscww[:, i_zt], metricscww[:, i_zm], nbins, cmap='Greys', range=rr)\n",
    "hmin, hmax = np.min(h[0]), np.max(h[0])\n",
    "axs[0, 0].set_title('CWW z mean')\n",
    "axs[0, 1].hist2d(metricscww[:, i_zt], metricscww[:, i_zmap], nbins, cmap='Greys', range=rr, vmax=hmax)\n",
    "axs[0, 1].set_title('CWW z map')\n",
    "axs[1, 0].hist2d(metrics[:, i_zt], metrics[:, i_zm], nbins, cmap='Greys', range=rr, vmax=hmax)\n",
    "axs[1, 0].set_title('GP z mean')\n",
    "axs[1, 1].hist2d(metrics[:, i_zt], metrics[:, i_zmap], nbins, cmap='Greys', range=rr, vmax=hmax)\n",
    "axs[1, 1].set_title('GP z map')\n",
    "axs[0, 0].plot([0, zmax], [0, zmax], c='k')\n",
    "axs[0, 1].plot([0, zmax], [0, zmax], c='k')\n",
    "axs[1, 0].plot([0, zmax], [0, zmax], c='k')\n",
    "axs[1, 1].plot([0, zmax], [0, zmax], c='k')\n",
    "#fig.tight_layout()"
   ]
  },
  {
   "cell_type": "code",
   "execution_count": null,
   "metadata": {
    "collapsed": false,
    "jupyter": {
     "outputs_hidden": false
    }
   },
   "outputs": [],
   "source": [
    "fig, axs = plt.subplots(1, 2, figsize=(13, 6))\n",
    "chi2s = ((metrics[:, i_zt] - metrics[:, i_ze])/metrics[:, i_std_ze])**2\n",
    "\n",
    "axs[0].errorbar(metrics[:, i_zt], metrics[:, i_ze], yerr=metrics[:, i_std_ze], fmt='o', markersize=5, capsize=0)\n",
    "axs[1].errorbar(metricscww[:, i_zt], metricscww[:, i_ze], yerr=metricscww[:, i_std_ze], fmt='o', markersize=5, capsize=0)\n",
    "axs[0].plot([0, zmax], [0, zmax], 'k')\n",
    "axs[1].plot([0, zmax], [0, zmax], 'k')\n",
    "axs[0].set_xlim([0, zmax])\n",
    "axs[1].set_xlim([0, zmax])\n",
    "axs[0].set_ylim([0, zmax])\n",
    "axs[1].set_ylim([0, zmax])\n",
    "axs[0].set_title('New method')\n",
    "axs[1].set_title('Standard template fitting')\n",
    "\n",
    "fig.tight_layout()"
   ]
  },
  {
   "cell_type": "code",
   "execution_count": null,
   "metadata": {
    "collapsed": false,
    "jupyter": {
     "outputs_hidden": false
    }
   },
   "outputs": [],
   "source": [
    "cmap = \"coolwarm_r\"\n",
    "vmin = 0.0\n",
    "alpha = 0.9\n",
    "s = 5\n",
    "fig, axs = plt.subplots(1, 2, figsize=(13, 5))\n",
    "vs = axs[0].scatter(metricscww[:, i_zt], metricscww[:, i_zmap], \n",
    "                    s=s, c=pdfatZ_cww, cmap=cmap, linewidth=0, vmin=vmin, alpha=alpha)\n",
    "vs = axs[1].scatter(metrics[:, i_zt], metrics[:, i_zmap], \n",
    "                    s=s, c=pdfatZ, cmap=cmap, linewidth=0, vmin=vmin, alpha=alpha)\n",
    "clb = plt.colorbar(vs, ax=axs.ravel().tolist())\n",
    "clb.set_label('Normalized probability at spec-$z$')\n",
    "for i in range(2):\n",
    "    axs[i].plot([0, zmax], [0, zmax], c='k', lw=1, zorder=0, alpha=1)\n",
    "    axs[i].set_ylim([0, zmax])\n",
    "    axs[i].set_xlim([0, zmax])\n",
    "    axs[i].set_xlabel('Spec-$z$')\n",
    "axs[0].set_ylabel('MAP photo-$z$')\n",
    "\n",
    "axs[0].set_title('Standard template fitting')\n",
    "axs[1].set_title('New method')"
   ]
  },
  {
   "cell_type": "markdown",
   "metadata": {},
   "source": [
    "## Conclusion\n",
    "Don't be too harsh with the results of the standard template fitting or the new methods since both have a lot of parameters which can be optimized!\n",
    "\n",
    "If the results above made sense, i.e. the redshifts are reasonnable for both methods on the mock data, then you can start modifying the parameter files and creating catalog files containing actual data! I recommend using less than 20k galaxies for training, and 1000 or 10k galaxies for the delight-apply script at the moment. Future updates will address this issue."
   ]
  },
  {
   "cell_type": "code",
   "execution_count": null,
   "metadata": {},
   "outputs": [],
   "source": []
  }
 ],
 "metadata": {
  "anaconda-cloud": {},
  "kernelspec": {
   "display_name": "Delight-Python",
   "language": "python",
   "name": "delightenv"
  },
  "language_info": {
   "codemirror_mode": {
    "name": "ipython",
    "version": 3
   },
   "file_extension": ".py",
   "mimetype": "text/x-python",
   "name": "python",
   "nbconvert_exporter": "python",
   "pygments_lexer": "ipython3",
   "version": "3.8.5"
  },
  "toc": {
   "base_numbering": 1,
   "nav_menu": {},
   "number_sections": true,
   "sideBar": true,
   "skip_h1_title": false,
   "title_cell": "Table of Contents",
   "title_sidebar": "Contents",
   "toc_cell": false,
   "toc_position": {},
   "toc_section_display": true,
   "toc_window_display": false
  }
 },
 "nbformat": 4,
 "nbformat_minor": 4
}
