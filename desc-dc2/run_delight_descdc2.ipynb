{
 "cells": [
  {
   "cell_type": "markdown",
   "metadata": {},
   "source": [
    "# Test Delight on DESC-DC2 simulation  in the context of  Vera C. Rubin Obs (LSST) \n",
    "\n",
    "\n",
    "- author : Sylvie Dagoret-Campagne\n",
    "- affiliation : IJCLab/IN2P3/CNRS\n",
    "- creation date : January 22 2022\n",
    "\n",
    "\n",
    "\n",
    "- run at NERSC with **desc-python** python kernel.\n",
    "\n",
    "\n",
    "Instruction to have a **desc-python** environnement:\n",
    "- https://confluence.slac.stanford.edu/display/LSSTDESC/Getting+Started+with+Anaconda+Python+at+NERSC\n",
    "\n",
    "\n",
    "This environnement is a clone from the **desc-python** environnement where package required in requirements can be addded according the instructions here\n",
    "- https://github.com/LSSTDESC/desc-python/wiki/Add-Packages-to-the-desc-python-environment"
   ]
  },
  {
   "cell_type": "markdown",
   "metadata": {},
   "source": [
    "We will use the parameter file \"tmps/parametersTestRail.cfg\".\n",
    "This contains a description of the bands and data to be used.\n",
    "In this example we will generate mock data for the ugrizy LSST bands,\n",
    "fit each object with our GP using ugi bands only and see how it predicts the rz bands.\n",
    "This is an example for filling in/predicting missing bands in a fully bayesian way\n",
    "with a flexible SED model quickly via our photo-z GP."
   ]
  },
  {
   "cell_type": "code",
   "execution_count": 1,
   "metadata": {
    "tags": []
   },
   "outputs": [],
   "source": [
    "%matplotlib inline\n",
    "import numpy as np\n",
    "import matplotlib.pyplot as plt\n",
    "import scipy.stats\n",
    "import sys,os\n",
    "sys.path.append('../')\n",
    "from delight.io import *\n",
    "from delight.utils import *\n",
    "from delight.photoz_gp import PhotozGP"
   ]
  },
  {
   "cell_type": "markdown",
   "metadata": {},
   "source": [
    "# Initialisation"
   ]
  },
  {
   "cell_type": "code",
   "execution_count": 2,
   "metadata": {},
   "outputs": [],
   "source": [
    "workdir = \"tmp\""
   ]
  },
  {
   "cell_type": "markdown",
   "metadata": {},
   "source": [
    "# Configuration parameters\n",
    "\n",
    "- now parameters are generated in a dictionnary"
   ]
  },
  {
   "cell_type": "code",
   "execution_count": 3,
   "metadata": {},
   "outputs": [],
   "source": [
    "list_of_files = os.listdir(workdir)\n",
    "list_of_files.remove('data') \n",
    "list_of_files.remove('delight_data') \n",
    "if '.ipynb_checkpoints' in list_of_files:\n",
    "    list_of_files.remove('.ipynb_checkpoints')\n",
    "list_of_configfiles = sorted(list_of_files)"
   ]
  },
  {
   "cell_type": "code",
   "execution_count": 4,
   "metadata": {},
   "outputs": [
    {
     "data": {
      "text/plain": [
       "['parametersTest-Sens.cfg',\n",
       " 'parametersTest-VC1e4_ell1e6.cfg',\n",
       " 'parametersTest.cfg',\n",
       " 'parametersTest_1.cfg',\n",
       " 'parametersTest_10.cfg',\n",
       " 'parametersTest_11.cfg',\n",
       " 'parametersTest_12.cfg',\n",
       " 'parametersTest_13.cfg',\n",
       " 'parametersTest_14.cfg',\n",
       " 'parametersTest_15.cfg',\n",
       " 'parametersTest_16.cfg',\n",
       " 'parametersTest_17.cfg',\n",
       " 'parametersTest_18.cfg',\n",
       " 'parametersTest_19.cfg',\n",
       " 'parametersTest_2.cfg',\n",
       " 'parametersTest_20.cfg',\n",
       " 'parametersTest_21.cfg',\n",
       " 'parametersTest_3.cfg',\n",
       " 'parametersTest_4.cfg',\n",
       " 'parametersTest_5.cfg',\n",
       " 'parametersTest_6.cfg',\n",
       " 'parametersTest_7.cfg',\n",
       " 'parametersTest_8.cfg',\n",
       " 'parametersTest_9.cfg']"
      ]
     },
     "execution_count": 4,
     "metadata": {},
     "output_type": "execute_result"
    }
   ],
   "source": [
    "list_of_configfiles"
   ]
  },
  {
   "cell_type": "markdown",
   "metadata": {},
   "source": [
    "# Filters"
   ]
  },
  {
   "cell_type": "markdown",
   "metadata": {},
   "source": [
    "- First, we must **fit the band filters with a gaussian mixture**. \n",
    "This is done with this script:"
   ]
  },
  {
   "cell_type": "code",
   "execution_count": 5,
   "metadata": {},
   "outputs": [],
   "source": [
    "from delight.interfaces.rail.processFilters import processFilters"
   ]
  },
  {
   "cell_type": "code",
   "execution_count": 6,
   "metadata": {},
   "outputs": [
    {
     "name": "stderr",
     "output_type": "stream",
     "text": [
      "2022-02-18 08:35:34,905 ipykernel_launcher.py delight.interfaces.rail.processFilters[252] INFO ----- processFilters ------\n",
      "2022-02-18 08:35:34,906 ipykernel_launcher.py delight.interfaces.rail.processFilters[252] INFO parameter file is tmp/parametersTest.cfg\n"
     ]
    },
    {
     "name": "stdout",
     "output_type": "stream",
     "text": [
      "DC2LSST_u DC2LSST_g DC2LSST_r DC2LSST_i DC2LSST_z DC2LSST_y "
     ]
    }
   ],
   "source": [
    "#configfilename = list_of_configfiles[9]\n",
    "configfilename = 'parametersTest.cfg'\n",
    "configfullfilename = os.path.join(workdir,configfilename) \n",
    "processFilters(configfullfilename)"
   ]
  },
  {
   "cell_type": "markdown",
   "metadata": {},
   "source": [
    "# SED"
   ]
  },
  {
   "cell_type": "markdown",
   "metadata": {},
   "source": [
    "- Second, we will process the library of SEDs and project them onto the filters,\n",
    "(for the mean fct of the GP) with the following script (which may take a few minutes depending on the settings you set):"
   ]
  },
  {
   "cell_type": "code",
   "execution_count": 7,
   "metadata": {},
   "outputs": [],
   "source": [
    "from delight.interfaces.rail.processSEDs import processSEDs"
   ]
  },
  {
   "cell_type": "code",
   "execution_count": 8,
   "metadata": {},
   "outputs": [
    {
     "name": "stderr",
     "output_type": "stream",
     "text": [
      "2022-02-18 08:35:48,577 ipykernel_launcher.py, delight.interfaces.rail.processSEDs[252] INFO --- Process SED ---\n"
     ]
    }
   ],
   "source": [
    "#configfilename = list_of_configfiles[9]\n",
    "configfilename = 'parametersTest.cfg'\n",
    "configfullfilename = os.path.join(workdir,configfilename) \n",
    "processSEDs(configfullfilename)"
   ]
  },
  {
   "cell_type": "markdown",
   "metadata": {},
   "source": [
    "# Train and apply\n",
    "Run the scripts below. There should be a little bit of feedback as it is going through the lines.\n",
    "For up to 1e4 objects it should only take a few minutes max, depending on the settings above."
   ]
  },
  {
   "cell_type": "markdown",
   "metadata": {},
   "source": [
    "## Template Fitting"
   ]
  },
  {
   "cell_type": "code",
   "execution_count": 9,
   "metadata": {
    "collapsed": false,
    "jupyter": {
     "outputs_hidden": false
    }
   },
   "outputs": [],
   "source": [
    "from delight.interfaces.rail.templateFitting import templateFitting"
   ]
  },
  {
   "cell_type": "code",
   "execution_count": 10,
   "metadata": {},
   "outputs": [
    {
     "name": "stderr",
     "output_type": "stream",
     "text": [
      "2022-02-18 08:35:59,874 ipykernel_launcher.py, delight.interfaces.rail.templateFitting[252] INFO --- TEMPLATE FITTING ---\n",
      "2022-02-18 08:35:59,875 ipykernel_launcher.py, delight.interfaces.rail.templateFitting[252] INFO ==> New Prior calculation from Benitez\n",
      "2022-02-18 08:35:59,881 ipykernel_launcher.py, delight.interfaces.rail.templateFitting[252] INFO Thread number / number of threads: 1 , 1\n",
      "2022-02-18 08:35:59,882 ipykernel_launcher.py, delight.interfaces.rail.templateFitting[252] INFO Input parameter file:tmp/parametersTest.cfg\n",
      "2022-02-18 08:35:59,943 ipykernel_launcher.py, delight.interfaces.rail.templateFitting[252] INFO Number of Target Objects 10692\n",
      "2022-02-18 08:35:59,944 ipykernel_launcher.py, delight.interfaces.rail.templateFitting[252] INFO Thread 0 , analyzes lines 0 , to 10692\n"
     ]
    }
   ],
   "source": [
    "templateFitting(configfullfilename)"
   ]
  },
  {
   "cell_type": "markdown",
   "metadata": {},
   "source": [
    "## Gaussian Process"
   ]
  },
  {
   "cell_type": "markdown",
   "metadata": {},
   "source": [
    "### Training"
   ]
  },
  {
   "cell_type": "code",
   "execution_count": 11,
   "metadata": {},
   "outputs": [],
   "source": [
    "from delight.interfaces.rail.delightLearn import delightLearn"
   ]
  },
  {
   "cell_type": "code",
   "execution_count": 12,
   "metadata": {},
   "outputs": [
    {
     "name": "stderr",
     "output_type": "stream",
     "text": [
      "2022-02-18 08:38:44,368 ipykernel_launcher.py, delight.interfaces.rail.delightLearn[252] INFO --- DELIGHT-LEARN ---\n",
      "2022-02-18 08:38:44,447 ipykernel_launcher.py, delight.interfaces.rail.delightLearn[252] INFO Number of Training Objects 3755\n",
      "2022-02-18 08:38:44,448 ipykernel_launcher.py, delight.interfaces.rail.delightLearn[252] INFO Thread 0 , analyzes lines 0 , to 3755\n"
     ]
    }
   ],
   "source": [
    "delightLearn(configfullfilename)"
   ]
  },
  {
   "cell_type": "markdown",
   "metadata": {},
   "source": [
    "### Predictions"
   ]
  },
  {
   "cell_type": "code",
   "execution_count": 13,
   "metadata": {},
   "outputs": [],
   "source": [
    "from delight.interfaces.rail.delightApply import delightApply"
   ]
  },
  {
   "cell_type": "code",
   "execution_count": null,
   "metadata": {},
   "outputs": [
    {
     "name": "stderr",
     "output_type": "stream",
     "text": [
      "2022-02-18 08:39:20,620 ipykernel_launcher.py, delight.interfaces.rail.delightApply[252] INFO --- DELIGHT-APPLY ---\n",
      "2022-02-18 08:39:20,718 ipykernel_launcher.py, delight.interfaces.rail.delightApply[252] INFO Number of Training Objects 3755\n",
      "2022-02-18 08:39:20,719 ipykernel_launcher.py, delight.interfaces.rail.delightApply[252] INFO Number of Target Objects 10692\n",
      "2022-02-18 08:39:20,720 ipykernel_launcher.py, delight.interfaces.rail.delightApply[252] INFO Thread 0 , analyzes lines 0 to 10692\n"
     ]
    },
    {
     "name": "stdout",
     "output_type": "stream",
     "text": [
      "0 0.28420495986938477 0.017043113708496094 0.0210874080657959\n",
      "100 0.2575249671936035 0.009165048599243164 0.0158538818359375\n",
      "200 0.2662229537963867 0.00814056396484375 0.014168024063110352\n",
      "300 0.2570838928222656 0.00734710693359375 0.026198625564575195\n",
      "400 0.33671092987060547 0.008123159408569336 0.01147317886352539\n",
      "500 0.267200231552124 0.008293867111206055 0.02266669273376465\n",
      "600 0.2917294502258301 0.010752201080322266 0.00998067855834961\n",
      "700 0.2775750160217285 0.008497238159179688 0.023092985153198242\n",
      "800 0.25855159759521484 0.0075032711029052734 0.02740621566772461\n",
      "900 0.2566871643066406 0.007679939270019531 0.012259244918823242\n",
      "1000 0.25461554527282715 0.007626056671142578 0.026538848876953125\n",
      "1100 0.2669367790222168 0.007759571075439453 0.02142930030822754\n",
      "1200 0.26083874702453613 0.0077953338623046875 0.01661992073059082\n",
      "1300 0.2513539791107178 0.006852626800537109 0.01963043212890625\n",
      "1400 0.2697570323944092 0.009102106094360352 0.017153501510620117\n",
      "1500 0.2906656265258789 0.007264375686645508 0.00904536247253418\n",
      "1600 0.27031779289245605 0.00765681266784668 0.02372574806213379\n",
      "1700 0.25630688667297363 0.007321357727050781 0.019370555877685547\n",
      "1800 0.2867848873138428 0.008829355239868164 0.01549530029296875\n",
      "1900 0.24180364608764648 0.007297992706298828 0.015530824661254883\n",
      "2000 0.2604529857635498 0.007803201675415039 0.02087998390197754\n",
      "2100 0.2935366630554199 0.007223606109619141 0.019178152084350586\n",
      "2200 0.28261256217956543 0.007811784744262695 0.009043216705322266\n",
      "2300 0.27985286712646484 0.008874177932739258 0.021477460861206055\n",
      "2400 0.28568410873413086 0.007997512817382812 0.01064920425415039\n",
      "2500 0.2860422134399414 0.009598493576049805 0.01649928092956543\n",
      "2600 0.2607271671295166 0.00712275505065918 0.017413854598999023\n",
      "2700 0.25794100761413574 0.0071604251861572266 0.021788597106933594\n",
      "2800 0.28597283363342285 0.010143756866455078 0.012331962585449219\n",
      "2900 0.27177977561950684 0.008735418319702148 0.025156259536743164\n",
      "3000 0.2481071949005127 0.00685429573059082 0.025119304656982422\n",
      "3100 0.27728986740112305 0.007573843002319336 0.009356021881103516\n",
      "3200 0.29757237434387207 0.008517265319824219 0.009675264358520508\n",
      "3300 0.2878258228302002 0.010434865951538086 0.009918928146362305\n",
      "3400 0.27008843421936035 0.007342100143432617 0.009345531463623047\n",
      "3500 0.26705193519592285 0.008386373519897461 0.009813547134399414\n",
      "3600 0.2615776062011719 0.006959199905395508 0.0062444210052490234\n",
      "3700 0.2612924575805664 0.009526252746582031 0.010618925094604492\n"
     ]
    }
   ],
   "source": [
    "delightApply(configfullfilename)"
   ]
  },
  {
   "cell_type": "markdown",
   "metadata": {},
   "source": [
    "# Analyze the outputs"
   ]
  },
  {
   "cell_type": "code",
   "execution_count": null,
   "metadata": {},
   "outputs": [],
   "source": [
    "# First read a bunch of useful stuff from the parameter file.\n",
    "params = parseParamFile(configfullfilename, verbose=False)\n",
    "bandCoefAmplitudes, bandCoefPositions, bandCoefWidths, norms\\\n",
    "    = readBandCoefficients(params)\n",
    "bandNames = params['bandNames']\n",
    "numBands, numCoefs = bandCoefAmplitudes.shape\n",
    "fluxredshifts = np.loadtxt(params['target_catFile'])\n",
    "fluxredshifts_train = np.loadtxt(params['training_catFile'])\n",
    "bandIndices, bandNames, bandColumns, bandVarColumns, redshiftColumn,\\\n",
    "            refBandColumn = readColumnPositions(params, prefix='target_')\n",
    "redshiftDistGrid, redshiftGrid, redshiftGridGP = createGrids(params)\n",
    "dir_seds = params['templates_directory']\n",
    "dir_filters = params['bands_directory']\n",
    "lambdaRef = params['lambdaRef']\n",
    "sed_names = params['templates_names']\n",
    "nt = len(sed_names)\n",
    "f_mod = np.zeros((redshiftGrid.size, nt, len(params['bandNames'])))\n",
    "for t, sed_name in enumerate(sed_names):\n",
    "    f_mod[:, t, :] = np.loadtxt(dir_seds + '/' + sed_name + '_fluxredshiftmod.txt')"
   ]
  },
  {
   "cell_type": "code",
   "execution_count": null,
   "metadata": {
    "collapsed": false,
    "jupyter": {
     "outputs_hidden": false
    }
   },
   "outputs": [],
   "source": [
    "# Load the PDF files\n",
    "metrics = np.loadtxt(params['metricsFile'])\n",
    "metricscww = np.loadtxt(params['metricsFileTemp'])\n",
    "# Those of the indices of the true, mean, stdev, map, and map_std redshifts.\n",
    "i_zt, i_zm, i_std_zm, i_zmap, i_std_zmap = 0, 1, 2, 3, 4\n",
    "i_ze = i_zm\n",
    "i_std_ze = i_std_zm\n",
    "\n",
    "pdfs = np.loadtxt(params['redshiftpdfFile'])\n",
    "pdfs_cww = np.loadtxt(params['redshiftpdfFileTemp'])\n",
    "pdfatZ_cww = metricscww[:, 5] / pdfs_cww.max(axis=1)\n",
    "pdfatZ = metrics[:, 5] / pdfs.max(axis=1)\n",
    "nobj = pdfatZ.size\n",
    "#pdfs /= pdfs.max(axis=1)[:, None]\n",
    "#pdfs_cww /= pdfs_cww.max(axis=1)[:, None]\n",
    "pdfs /= np.trapz(pdfs, x=redshiftGrid, axis=1)[:, None]\n",
    "pdfs_cww /= np.trapz(pdfs_cww, x=redshiftGrid, axis=1)[:, None]"
   ]
  },
  {
   "cell_type": "code",
   "execution_count": null,
   "metadata": {
    "collapsed": false,
    "jupyter": {
     "outputs_hidden": false
    }
   },
   "outputs": [],
   "source": [
    "ncol = 4\n",
    "fig, axs = plt.subplots(5, ncol, figsize=(12, 12), sharex=True, sharey=False)\n",
    "axs = axs.ravel()\n",
    "z = fluxredshifts[:, redshiftColumn]\n",
    "sel = np.random.choice(nobj, axs.size, replace=False)\n",
    "lw = 2\n",
    "for ik in range(axs.size):\n",
    "    k = sel[ik]\n",
    "    print(k, end=\" \")\n",
    "    axs[ik].plot(redshiftGrid, pdfs_cww[k, :],lw=lw, label='Standard template fitting')# c=\"#2ecc71\", \n",
    "    axs[ik].plot(redshiftGrid, pdfs[k, :], lw=lw, label='New method')  #, c=\"#3498db\"\n",
    "    axs[ik].axvline(fluxredshifts[k, redshiftColumn], c=\"k\", lw=1, label='Spec-z')\n",
    "    ymax = np.max(np.concatenate((pdfs[k, :], pdfs_cww[k, :])))\n",
    "    axs[ik].set_ylim([0, ymax*1.2])\n",
    "    axs[ik].set_xlim([0, 3.1])\n",
    "    axs[ik].set_yticks([])\n",
    "    axs[ik].set_xticks([0.0, 0.2, 0.4, 0.6, 0.8, 1.0, 1.2, 1.4])\n",
    "for i in range(ncol):\n",
    "    axs[-i-1].set_xlabel('Redshift', fontsize=10)\n",
    "axs[0].legend(ncol=3, frameon=False, loc='upper left', bbox_to_anchor=(0.0, 1.4))\n",
    "#fig.tight_layout()\n",
    "#fig.subplots_adjust(wspace=0.1, hspace=0.1, top=0.96)\n"
   ]
  },
  {
   "cell_type": "code",
   "execution_count": null,
   "metadata": {
    "collapsed": false,
    "jupyter": {
     "outputs_hidden": false
    }
   },
   "outputs": [],
   "source": [
    "fig, axs = plt.subplots(2, 2, figsize=(12, 12))\n",
    "zmax = 3.1\n",
    "rr = [[0, zmax], [0, zmax]]\n",
    "nbins = 30\n",
    "h = axs[0, 0].hist2d(metricscww[:, i_zt], metricscww[:, i_zm], nbins, cmap='Greys', range=rr)\n",
    "hmin, hmax = np.min(h[0]), np.max(h[0])\n",
    "axs[0, 0].set_title('CWW z mean')\n",
    "axs[0, 1].hist2d(metricscww[:, i_zt], metricscww[:, i_zmap], nbins, cmap='Greys', range=rr, vmax=hmax)\n",
    "axs[0, 1].set_title('CWW z map')\n",
    "axs[1, 0].hist2d(metrics[:, i_zt], metrics[:, i_zm], nbins, cmap='Greys', range=rr, vmax=hmax)\n",
    "axs[1, 0].set_title('GP z mean')\n",
    "axs[1, 1].hist2d(metrics[:, i_zt], metrics[:, i_zmap], nbins, cmap='Greys', range=rr, vmax=hmax)\n",
    "axs[1, 1].set_title('GP z map')\n",
    "axs[0, 0].plot([0, zmax], [0, zmax], c='k')\n",
    "axs[0, 1].plot([0, zmax], [0, zmax], c='k')\n",
    "axs[1, 0].plot([0, zmax], [0, zmax], c='k')\n",
    "axs[1, 1].plot([0, zmax], [0, zmax], c='k')\n",
    "#fig.tight_layout()"
   ]
  },
  {
   "cell_type": "code",
   "execution_count": null,
   "metadata": {
    "collapsed": false,
    "jupyter": {
     "outputs_hidden": false
    }
   },
   "outputs": [],
   "source": [
    "fig, axs = plt.subplots(1, 2, figsize=(13, 6))\n",
    "chi2s = ((metrics[:, i_zt] - metrics[:, i_ze])/metrics[:, i_std_ze])**2\n",
    "\n",
    "axs[0].errorbar(metrics[:, i_zt], metrics[:, i_ze], yerr=metrics[:, i_std_ze], fmt='o', markersize=5, capsize=0)\n",
    "axs[1].errorbar(metricscww[:, i_zt], metricscww[:, i_ze], yerr=metricscww[:, i_std_ze], fmt='o', markersize=5, capsize=0)\n",
    "axs[0].plot([0, zmax], [0, zmax], 'k')\n",
    "axs[1].plot([0, zmax], [0, zmax], 'k')\n",
    "axs[0].set_xlim([0, zmax])\n",
    "axs[1].set_xlim([0, zmax])\n",
    "axs[0].set_ylim([0, zmax])\n",
    "axs[1].set_ylim([0, zmax])\n",
    "axs[0].set_title('New method')\n",
    "axs[1].set_title('Standard template fitting')\n",
    "\n",
    "fig.tight_layout()"
   ]
  },
  {
   "cell_type": "code",
   "execution_count": null,
   "metadata": {
    "collapsed": false,
    "jupyter": {
     "outputs_hidden": false
    }
   },
   "outputs": [],
   "source": [
    "cmap = \"coolwarm_r\"\n",
    "vmin = 0.0\n",
    "alpha = 0.9\n",
    "s = 5\n",
    "fig, axs = plt.subplots(1, 2, figsize=(13, 5))\n",
    "vs = axs[0].scatter(metricscww[:, i_zt], metricscww[:, i_zmap], \n",
    "                    s=s, c=pdfatZ_cww, cmap=cmap, linewidth=0, vmin=vmin, alpha=alpha)\n",
    "vs = axs[1].scatter(metrics[:, i_zt], metrics[:, i_zmap], \n",
    "                    s=s, c=pdfatZ, cmap=cmap, linewidth=0, vmin=vmin, alpha=alpha)\n",
    "clb = plt.colorbar(vs, ax=axs.ravel().tolist())\n",
    "clb.set_label('Normalized probability at spec-$z$')\n",
    "for i in range(2):\n",
    "    axs[i].plot([0, zmax], [0, zmax], c='k', lw=1, zorder=0, alpha=1)\n",
    "    axs[i].set_ylim([0, zmax])\n",
    "    axs[i].set_xlim([0, zmax])\n",
    "    axs[i].set_xlabel('Spec-$z$')\n",
    "axs[0].set_ylabel('MAP photo-$z$')\n",
    "\n",
    "axs[0].set_title('Standard template fitting')\n",
    "axs[1].set_title('New method')"
   ]
  },
  {
   "cell_type": "markdown",
   "metadata": {},
   "source": [
    "## Conclusion\n",
    "Don't be too harsh with the results of the standard template fitting or the new methods since both have a lot of parameters which can be optimized!\n",
    "\n",
    "If the results above made sense, i.e. the redshifts are reasonnable for both methods on the mock data, then you can start modifying the parameter files and creating catalog files containing actual data! I recommend using less than 20k galaxies for training, and 1000 or 10k galaxies for the delight-apply script at the moment. Future updates will address this issue."
   ]
  },
  {
   "cell_type": "code",
   "execution_count": null,
   "metadata": {},
   "outputs": [],
   "source": []
  }
 ],
 "metadata": {
  "anaconda-cloud": {},
  "kernelspec": {
   "display_name": "Delight-Python",
   "language": "python",
   "name": "delightenv"
  },
  "language_info": {
   "codemirror_mode": {
    "name": "ipython",
    "version": 3
   },
   "file_extension": ".py",
   "mimetype": "text/x-python",
   "name": "python",
   "nbconvert_exporter": "python",
   "pygments_lexer": "ipython3",
   "version": "3.8.5"
  },
  "toc": {
   "base_numbering": 1,
   "nav_menu": {},
   "number_sections": true,
   "sideBar": true,
   "skip_h1_title": false,
   "title_cell": "Table of Contents",
   "title_sidebar": "Contents",
   "toc_cell": false,
   "toc_position": {},
   "toc_section_display": true,
   "toc_window_display": false
  }
 },
 "nbformat": 4,
 "nbformat_minor": 4
}
