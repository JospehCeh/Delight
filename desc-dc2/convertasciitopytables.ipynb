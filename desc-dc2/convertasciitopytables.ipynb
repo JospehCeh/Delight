{
 "cells": [
  {
   "cell_type": "markdown",
   "id": "8be90ff2-e420-41cc-b4a9-803a23841021",
   "metadata": {},
   "source": [
    "# Convert ascii to pytables\n",
    "\n",
    "## prepare conversion of ascii tables into pytables\n",
    "\n",
    "- author : Sylvie Dagoret-Campagne\n",
    "- affilication : IJCLab/IN2P3/CNRS\n",
    "- Creation date : January 22th 2022"
   ]
  },
  {
   "cell_type": "markdown",
   "id": "31411e12-713b-4187-9f0e-e4b1a758ed3a",
   "metadata": {},
   "source": [
    "## Imports"
   ]
  },
  {
   "cell_type": "code",
   "execution_count": 1,
   "id": "8d0a2a6a-c7b2-452d-be51-b12e2e824a7e",
   "metadata": {},
   "outputs": [],
   "source": [
    "%matplotlib inline\n",
    "import numpy as np\n",
    "import matplotlib.pyplot as plt\n",
    "import scipy.stats\n",
    "import sys,os\n",
    "sys.path.append('../')\n",
    "from delight.io import *\n",
    "from delight.utils import *\n",
    "from delight.photoz_gp import PhotozGP"
   ]
  },
  {
   "cell_type": "code",
   "execution_count": 2,
   "id": "29bf7377-4b33-464b-86a9-1c60aafa18ad",
   "metadata": {},
   "outputs": [],
   "source": [
    "from matplotlib.colors import LogNorm"
   ]
  },
  {
   "cell_type": "code",
   "execution_count": 3,
   "id": "0275702b-bdb5-4cae-9341-3bef97915467",
   "metadata": {},
   "outputs": [],
   "source": [
    "import logging\n",
    "import coloredlogs\n",
    "logger = logging.getLogger(__name__)\n",
    "coloredlogs.install(level='DEBUG', logger=logger,fmt='%(asctime)s,%(msecs)03d %(programname)s %(name)s[%(process)d] %(levelname)s %(message)s')"
   ]
  },
  {
   "cell_type": "code",
   "execution_count": 4,
   "id": "9d5c3b30-8564-432d-948e-885da1266b47",
   "metadata": {},
   "outputs": [
    {
     "name": "stdout",
     "output_type": "stream",
     "text": [
      "/Users/dagoret/anaconda3/bin/python\n",
      "3.8.8 (default, Apr 13 2021, 12:59:45) \n",
      "[Clang 10.0.0 ]\n"
     ]
    }
   ],
   "source": [
    "print(sys.executable)\n",
    "print(sys.version)\n",
    "#print(sys.version_info)"
   ]
  },
  {
   "cell_type": "code",
   "execution_count": 5,
   "id": "5fc3f658-0581-4f65-b95f-39a60cef0ca5",
   "metadata": {},
   "outputs": [],
   "source": [
    "plt.rcParams[\"figure.figsize\"] = (12,6)\n",
    "plt.rcParams[\"axes.labelsize\"] = 'xx-large'\n",
    "plt.rcParams['axes.titlesize'] = 'xx-large'\n",
    "plt.rcParams['xtick.labelsize']= 'xx-large'\n",
    "plt.rcParams['ytick.labelsize']= 'xx-large'"
   ]
  },
  {
   "cell_type": "code",
   "execution_count": 6,
   "id": "ee50589c-f752-499e-8a0c-a2e03e80d880",
   "metadata": {},
   "outputs": [],
   "source": [
    "from delight.io import *"
   ]
  },
  {
   "cell_type": "code",
   "execution_count": 7,
   "id": "35f87066-fd1b-413a-8aa7-1089a379fdbd",
   "metadata": {},
   "outputs": [],
   "source": [
    "import tables as tb"
   ]
  },
  {
   "cell_type": "code",
   "execution_count": 8,
   "id": "fd9619fb-e1a8-4434-a6a3-9731763e7131",
   "metadata": {},
   "outputs": [
    {
     "name": "stdout",
     "output_type": "stream",
     "text": [
      "\u001b[1m\u001b[31mdata\u001b[m\u001b[m                  parametersTest_14.cfg parametersTest_21.cfg\n",
      "\u001b[1m\u001b[31mdelight_data\u001b[m\u001b[m          parametersTest_15.cfg parametersTest_3.cfg\n",
      "parametersTest.cfg    parametersTest_16.cfg parametersTest_4.cfg\n",
      "parametersTest_1.cfg  parametersTest_17.cfg parametersTest_5.cfg\n",
      "parametersTest_10.cfg parametersTest_18.cfg parametersTest_6.cfg\n",
      "parametersTest_11.cfg parametersTest_19.cfg parametersTest_7.cfg\n",
      "parametersTest_12.cfg parametersTest_2.cfg  parametersTest_8.cfg\n",
      "parametersTest_13.cfg parametersTest_20.cfg parametersTest_9.cfg\n"
     ]
    }
   ],
   "source": [
    "!ls tmp"
   ]
  },
  {
   "cell_type": "markdown",
   "id": "96cb57a5-5808-41fd-9950-519b696feed1",
   "metadata": {},
   "source": [
    "## configuration"
   ]
  },
  {
   "cell_type": "code",
   "execution_count": 9,
   "id": "6d52e384-1f36-491f-80f5-643cfeb64b63",
   "metadata": {},
   "outputs": [
    {
     "data": {
      "text/plain": [
       "'/Users/dagoret/MacOSX/GitHub/LSST/Delight/desc-dc2'"
      ]
     },
     "execution_count": 9,
     "metadata": {},
     "output_type": "execute_result"
    }
   ],
   "source": [
    "pwd"
   ]
  },
  {
   "cell_type": "code",
   "execution_count": 10,
   "id": "cd6bf3de-fe0f-4f10-9915-96856ff5e03e",
   "metadata": {},
   "outputs": [],
   "source": [
    "# config file\n",
    "configdir          = \"./tmp\"\n",
    "configfilename     = \"parametersTest.cfg\"\n",
    "configfullfilename = os.path.join(configdir,configfilename)\n",
    "# data\n",
    "workdir               = \"./tmp/delight_data\"\n",
    "filename_galaxies     = \"galaxies-fluxredshifts.txt\"\n",
    "fullfilename_galaxies = os.path.join(workdir,filename_galaxies)"
   ]
  },
  {
   "cell_type": "code",
   "execution_count": 11,
   "id": "f759a475-4347-4d39-9a6a-9976a9aab7d4",
   "metadata": {},
   "outputs": [],
   "source": [
    "paramFileName = configfullfilename\n",
    "params        = parseParamFile(paramFileName, verbose=False)"
   ]
  },
  {
   "cell_type": "markdown",
   "id": "87d78e94-1ddc-4b0f-811d-bde064530c53",
   "metadata": {},
   "source": [
    "# Delight Parameters"
   ]
  },
  {
   "cell_type": "code",
   "execution_count": 12,
   "id": "416c9eb2-33b8-4570-ba5c-567b59372a37",
   "metadata": {},
   "outputs": [],
   "source": [
    "DL = approx_DL()\n",
    "redshiftDistGrid, redshiftGrid, redshiftGridGP = createGrids(params)\n",
    "numZ = redshiftGrid.size\n",
    "\n",
    "# Locate which columns of the catalog correspond to which bands.\n",
    "\n",
    "bandIndices, bandNames, bandColumns, bandVarColumns, redshiftColumn,refBandColumn = readColumnPositions(params, prefix=\"target_\")"
   ]
  },
  {
   "cell_type": "code",
   "execution_count": 13,
   "id": "49295b18-ef2f-4dcf-90d1-7151441ed93a",
   "metadata": {},
   "outputs": [
    {
     "name": "stdout",
     "output_type": "stream",
     "text": [
      "[0 1 2 3 4 5]\n"
     ]
    }
   ],
   "source": [
    "print(bandIndices)"
   ]
  },
  {
   "cell_type": "code",
   "execution_count": 14,
   "id": "0170df58-d28d-492d-a635-cc894914fe1a",
   "metadata": {},
   "outputs": [
    {
     "name": "stdout",
     "output_type": "stream",
     "text": [
      "['DC2LSST_u' 'DC2LSST_g' 'DC2LSST_r' 'DC2LSST_i' 'DC2LSST_z' 'DC2LSST_y']\n"
     ]
    }
   ],
   "source": [
    "print(bandNames)"
   ]
  },
  {
   "cell_type": "code",
   "execution_count": 15,
   "id": "f24e904b-f0b2-4eef-98a6-f04930eb0f46",
   "metadata": {},
   "outputs": [
    {
     "name": "stdout",
     "output_type": "stream",
     "text": [
      "[ 0  2  4  6  8 10]\n"
     ]
    }
   ],
   "source": [
    "print(bandColumns)"
   ]
  },
  {
   "cell_type": "code",
   "execution_count": 16,
   "id": "ab5b4b34-5d03-490e-99d0-96219ee1dbf5",
   "metadata": {},
   "outputs": [
    {
     "name": "stdout",
     "output_type": "stream",
     "text": [
      "[ 1  3  5  7  9 11]\n"
     ]
    }
   ],
   "source": [
    "print(bandVarColumns)"
   ]
  },
  {
   "cell_type": "code",
   "execution_count": 17,
   "id": "bf4ca8b8-64fd-4fa1-a5e7-6ed28f74ef61",
   "metadata": {},
   "outputs": [
    {
     "name": "stdout",
     "output_type": "stream",
     "text": [
      "12\n"
     ]
    }
   ],
   "source": [
    "print(redshiftColumn)"
   ]
  },
  {
   "cell_type": "code",
   "execution_count": 18,
   "id": "9410acd7-47ba-4bd1-a4f6-23420a6e2885",
   "metadata": {},
   "outputs": [
    {
     "name": "stdout",
     "output_type": "stream",
     "text": [
      "4\n"
     ]
    }
   ],
   "source": [
    "print(refBandColumn)"
   ]
  },
  {
   "cell_type": "markdown",
   "id": "400c99cc-4cf4-406b-b60b-4b775e3116bf",
   "metadata": {},
   "source": [
    "# Training"
   ]
  },
  {
   "cell_type": "code",
   "execution_count": 19,
   "id": "27ec1b7e-4e63-4dd6-b2c6-334cc7542be9",
   "metadata": {},
   "outputs": [
    {
     "data": {
      "text/plain": [
       "13"
      ]
     },
     "execution_count": 19,
     "metadata": {},
     "output_type": "execute_result"
    }
   ],
   "source": [
    "nbcol_train = len(params['training_bandOrder'])\n",
    "nbcol_train"
   ]
  },
  {
   "cell_type": "code",
   "execution_count": 20,
   "id": "26fed565-96bc-45b0-a967-0dcbdd361a20",
   "metadata": {},
   "outputs": [
    {
     "name": "stderr",
     "output_type": "stream",
     "text": [
      "<ipython-input-20-181498cf5da6>:4: DeprecationWarning: Calling np.sum(generator) is deprecated, and in the future will give a different result. Use np.sum(np.fromiter(generator)) or the python sum builtin instead.\n",
      "  numObjectsTraining = np.sum(1 for line in open(params['training_catFile']))\n",
      "2022-01-23 15:56:11,843 ipykernel_launcher.py __main__[87906] INFO Number of Training Objects 3755\n",
      "2022-01-23 15:56:11,844 ipykernel_launcher.py __main__[87906] INFO Thread 0 , analyzes lines 0 , to 3755\n"
     ]
    }
   ],
   "source": [
    "numThreads = 1\n",
    "threadNum = 0\n",
    "\n",
    "numObjectsTraining = np.sum(1 for line in open(params['training_catFile']))\n",
    "\n",
    "msg= 'Number of Training Objects ' + str(numObjectsTraining)\n",
    "logger.info(msg)\n",
    "\n",
    "firstLine = int(threadNum * numObjectsTraining / numThreads)\n",
    "lastLine = int(min(numObjectsTraining,(threadNum + 1) * numObjectsTraining / numThreads))\n",
    "numLines = lastLine - firstLine\n",
    "\n",
    "msg ='Thread ' +  str(threadNum) + ' , analyzes lines ' + str(firstLine) + ' , to ' + str(lastLine)\n",
    "logger.info(msg)"
   ]
  },
  {
   "cell_type": "code",
   "execution_count": 21,
   "id": "ee07caf8-7f59-4bba-8e5e-8e643087312a",
   "metadata": {},
   "outputs": [
    {
     "data": {
      "text/plain": [
       "False"
      ]
     },
     "execution_count": 21,
     "metadata": {},
     "output_type": "execute_result"
    }
   ],
   "source": [
    "crossValidate_flag = params['training_crossValidate']\n",
    "crossValidate_flag"
   ]
  },
  {
   "cell_type": "code",
   "execution_count": 22,
   "id": "02b60b3f-213d-4b91-9ea0-a536375883a2",
   "metadata": {},
   "outputs": [
    {
     "name": "stdout",
     "output_type": "stream",
     "text": [
      "0 \t z 0.02043498739444738 \t Nflux 3031650.7320414316 \t bands [0 1 2 3 4 5] \t fluxes [1349.60090537 3647.50826794 4841.59244168 5544.0759444  5751.77741451\n",
      " 5981.23969488] \t fluxesVar [ 46.38848211 332.9087944  586.39517919 768.95409146 827.86598966\n",
      " 895.94544786] \t bandsCV None \t fluxesCV None \t fluxesVarCV None \t X [[0.00000000e+00 2.04349874e-02 2.60222573e+11]\n",
      " [1.00000000e+00 2.04349874e-02 2.60222573e+11]\n",
      " [2.00000000e+00 2.04349874e-02 2.60222573e+11]\n",
      " [3.00000000e+00 2.04349874e-02 2.60222573e+11]\n",
      " [4.00000000e+00 2.04349874e-02 2.60222573e+11]\n",
      " [5.00000000e+00 2.04349874e-02 2.60222573e+11]] \t Y [[1349.60090537]\n",
      " [3647.50826794]\n",
      " [4841.59244168]\n",
      " [5544.0759444 ]\n",
      " [5751.77741451]\n",
      " [5981.23969488]] \t Yvar [[ 46.38848211]\n",
      " [332.9087944 ]\n",
      " [586.39517919]\n",
      " [768.95409146]\n",
      " [827.86598966]\n",
      " [895.94544786]]\n",
      "1 \t z 0.01936132305993654 \t Nflux 81129.16941288905 \t bands [0 1 2 3 4 5] \t fluxes [ 50.13226396 115.50270113 135.77265951 148.36348784 152.33461248\n",
      " 155.26331547] \t fluxesVar [0.22932213 0.34490785 0.46987962 0.5672234  0.62610122 0.81242474] \t bandsCV None \t fluxesCV None \t fluxesVarCV None \t X [[0.00000000e+00 1.93613231e-02 6.21568103e+09]\n",
      " [1.00000000e+00 1.93613231e-02 6.21568103e+09]\n",
      " [2.00000000e+00 1.93613231e-02 6.21568103e+09]\n",
      " [3.00000000e+00 1.93613231e-02 6.21568103e+09]\n",
      " [4.00000000e+00 1.93613231e-02 6.21568103e+09]\n",
      " [5.00000000e+00 1.93613231e-02 6.21568103e+09]] \t Y [[ 50.13226396]\n",
      " [115.50270113]\n",
      " [135.77265951]\n",
      " [148.36348784]\n",
      " [152.33461248]\n",
      " [155.26331547]] \t Yvar [[0.22932213]\n",
      " [0.34490785]\n",
      " [0.46987962]\n",
      " [0.5672234 ]\n",
      " [0.62610122]\n",
      " [0.81242474]]\n",
      "2 \t z 0.036720669658963256 \t Nflux 228639.40950755303 \t bands [0 1 2 3 4 5] \t fluxes [ 40.32481047 148.43152919 290.04609224 418.12014715 582.08784898\n",
      " 688.93230885] \t fluxesVar [ 0.20209084  0.56373079  2.1169983   4.39959401  8.55168123 12.17133263] \t bandsCV None \t fluxesCV None \t fluxesVarCV None \t X [[0.00000000e+00 3.67206697e-02 6.87916515e+10]\n",
      " [1.00000000e+00 3.67206697e-02 6.87916515e+10]\n",
      " [2.00000000e+00 3.67206697e-02 6.87916515e+10]\n",
      " [3.00000000e+00 3.67206697e-02 6.87916515e+10]\n",
      " [4.00000000e+00 3.67206697e-02 6.87916515e+10]\n",
      " [5.00000000e+00 3.67206697e-02 6.87916515e+10]] \t Y [[ 40.32481047]\n",
      " [148.43152919]\n",
      " [290.04609224]\n",
      " [418.12014715]\n",
      " [582.08784898]\n",
      " [688.93230885]] \t Yvar [[ 0.20209084]\n",
      " [ 0.56373079]\n",
      " [ 2.1169983 ]\n",
      " [ 4.39959401]\n",
      " [ 8.55168123]\n",
      " [12.17133263]]\n",
      "3 \t z 0.039469064711437296 \t Nflux 432717.961818322 \t bands [0 1 2 3 4 5] \t fluxes [226.85710652 495.31649392 668.28142384 791.32507497 846.67632362\n",
      " 900.68332244] \t fluxesVar [ 1.54446284  6.16400555 11.19262755 15.70294153 18.02597272 20.62601785] \t bandsCV None \t fluxesCV None \t fluxesVarCV None \t X [[0.00000000e+00 3.94690647e-02 1.52353056e+11]\n",
      " [1.00000000e+00 3.94690647e-02 1.52353056e+11]\n",
      " [2.00000000e+00 3.94690647e-02 1.52353056e+11]\n",
      " [3.00000000e+00 3.94690647e-02 1.52353056e+11]\n",
      " [4.00000000e+00 3.94690647e-02 1.52353056e+11]\n",
      " [5.00000000e+00 3.94690647e-02 1.52353056e+11]] \t Y [[226.85710652]\n",
      " [495.31649392]\n",
      " [668.28142384]\n",
      " [791.32507497]\n",
      " [846.67632362]\n",
      " [900.68332244]] \t Yvar [[ 1.54446284]\n",
      " [ 6.16400555]\n",
      " [11.19262755]\n",
      " [15.70294153]\n",
      " [18.02597272]\n",
      " [20.62601785]]\n"
     ]
    }
   ],
   "source": [
    "trainingDataIter1 = getDataFromFile(params, firstLine, lastLine,prefix=\"training_\", getXY=True,CV=crossValidate_flag)\n",
    "loc = 0\n",
    "for z, normedRefFlux,bands, fluxes, fluxesVar,bandsCV, fluxesCV, fluxesVarCV,X, Y, Yvar in trainingDataIter1:\n",
    "    print(loc,\"\\t z\",z,\"\\t Nflux\",normedRefFlux,\"\\t bands\",bands,\"\\t fluxes\",fluxes,\"\\t fluxesVar\",fluxesVar,\n",
    "          \"\\t bandsCV\",bandsCV,\"\\t fluxesCV\", fluxesCV,\"\\t fluxesVarCV\", fluxesVarCV,\"\\t X\",X,\"\\t Y\",Y,\"\\t Yvar\",Yvar)\n",
    "    \n",
    "    if loc>2:\n",
    "        break\n",
    "    loc += 1"
   ]
  },
  {
   "cell_type": "markdown",
   "id": "9556614f-d30e-4f18-b0eb-e82cf988172c",
   "metadata": {},
   "source": [
    "## Create a pytable\n",
    "\n",
    "- https://www.pytables.org/usersguide/introduction.html"
   ]
  },
  {
   "cell_type": "code",
   "execution_count": 23,
   "id": "544e74ef-85bd-4547-81c5-72af3428979c",
   "metadata": {},
   "outputs": [],
   "source": [
    "# data\n",
    "workdir               = \"./tmp/delight_data\"\n",
    "filename_galaxies_h5     = \"galaxies-fluxredshifts.h5\"\n",
    "fullfilename_galaxies_h5 = os.path.join(workdir,filename_galaxies_h5)"
   ]
  },
  {
   "cell_type": "code",
   "execution_count": 24,
   "id": "7242570f-4b79-408e-974b-11f99ea1345e",
   "metadata": {},
   "outputs": [],
   "source": [
    "# Open a file in \"w\"rite mode\n",
    "fileh = tb.open_file(fullfilename_galaxies_h5, mode = \"w\")"
   ]
  },
  {
   "cell_type": "code",
   "execution_count": 25,
   "id": "c0344b19-6453-42cc-b288-975c35181b28",
   "metadata": {},
   "outputs": [],
   "source": [
    "# Get the HDF5 root group\n",
    "root = fileh.root"
   ]
  },
  {
   "cell_type": "code",
   "execution_count": 26,
   "id": "90f54111-0faf-4e25-bd46-def00861c1ee",
   "metadata": {},
   "outputs": [],
   "source": [
    "#Create the groups\n",
    "group = fileh.create_group(root, \"training_catFile\",\"training galaxy catalog\")"
   ]
  },
  {
   "cell_type": "markdown",
   "id": "d96958c6-f478-4e81-a5eb-40106fd8ed1e",
   "metadata": {},
   "source": [
    "### data structure"
   ]
  },
  {
   "cell_type": "code",
   "execution_count": 27,
   "id": "8a4d69c2-3f23-47fd-a06e-c14d574c814b",
   "metadata": {},
   "outputs": [],
   "source": [
    "class Galaxy(tb.IsDescription):\n",
    "    idnumber       = tb.Int64Col()      # Signed 64-bit integer\n",
    "    redshift       = tb.Float32Col()    # float32 redshift\n",
    "    normedRedfFlux = tb.Float32Col()    # float32 normalized Flux\n",
    "    bands          = tb.Int32Col(shape = (len(bandNames),)) \n",
    "    fluxes         = tb.Float32Col(shape = (len(bandNames),)) \n",
    "    fluxesVar      = tb.Float32Col(shape = (len(bandNames),)) \n",
    "    if crossValidate_flag:\n",
    "        bandsCV        = tb.Int32Col(shape = (len(bandNames),)) \n",
    "        fluxesCV       = tb.Float32Col(shape = (len(bandNames),)) \n",
    "        fluxesCVVar    = tb.Float32Col(shape = (len(bandNames),)) \n",
    "    X              = tb.Float32Col(shape = (len(bandNames),3))   # Gaussian Process X\n",
    "    Y              = tb.Float32Col(shape = (len(bandNames),1))   # Gaussian Process Y\n",
    "    Yvar           = tb.Float32Col(shape = (len(bandNames),1))   # Gaussian Process Yvar"
   ]
  },
  {
   "cell_type": "code",
   "execution_count": 28,
   "id": "e089aa0e-fc21-415f-ba00-d912e8f1062d",
   "metadata": {},
   "outputs": [],
   "source": [
    "# Create 1 table in group\n",
    "table = fileh.create_table(group, \"galaxies\", Galaxy)"
   ]
  },
  {
   "cell_type": "code",
   "execution_count": 29,
   "id": "879fb4eb-c55c-4475-aa6f-159f322eb43e",
   "metadata": {},
   "outputs": [],
   "source": [
    "# Get the record object associated with the table:\n",
    "row = table.row"
   ]
  },
  {
   "cell_type": "code",
   "execution_count": 30,
   "id": "8ee69d50-f7d9-475c-8c46-541bf11345d3",
   "metadata": {},
   "outputs": [],
   "source": [
    "trainingDataIter1 = getDataFromFile(params, firstLine, lastLine,prefix=\"training_\", getXY=True,CV=crossValidate_flag)\n",
    "loc = 0\n",
    "for z, normedRefFlux,bands, fluxes, fluxesVar,bandsCV, fluxesCV, fluxesVarCV,X, Y, Yvar in trainingDataIter1:\n",
    "       \n",
    "    row['idnumber']       = loc\n",
    "    row['redshift']       = z\n",
    "    row['normedRedfFlux'] = normedRefFlux\n",
    "    row['bands']          = bands\n",
    "    row['fluxes']         = fluxes\n",
    "    row['fluxesVar']      = fluxesVar\n",
    "    if crossValidate_flag:\n",
    "        row['bandsCV']        = bandsCV\n",
    "        row['fluxesCV']       = fluxsCV\n",
    "        row['fluxesVarCV']    = fluxsVarCV\n",
    "    row['X']              = X\n",
    "    row['Y']              = Y\n",
    "    row['Yvar']           = Yvar\n",
    "        # This injects the Record values\n",
    "    row.append()\n",
    "    loc += 1\n",
    "    \n",
    " # Flush the table buffers\n",
    "table.flush()"
   ]
  },
  {
   "cell_type": "code",
   "execution_count": 31,
   "id": "16179c91-982d-4cfb-887f-445780864744",
   "metadata": {},
   "outputs": [
    {
     "data": {
      "text/plain": [
       "/training_catFile/galaxies (Table(3755,)) ''\n",
       "  description := {\n",
       "  \"X\": Float32Col(shape=(6, 3), dflt=0.0, pos=0),\n",
       "  \"Y\": Float32Col(shape=(6, 1), dflt=0.0, pos=1),\n",
       "  \"Yvar\": Float32Col(shape=(6, 1), dflt=0.0, pos=2),\n",
       "  \"bands\": Int32Col(shape=(6,), dflt=0, pos=3),\n",
       "  \"fluxes\": Float32Col(shape=(6,), dflt=0.0, pos=4),\n",
       "  \"fluxesVar\": Float32Col(shape=(6,), dflt=0.0, pos=5),\n",
       "  \"idnumber\": Int64Col(shape=(), dflt=0, pos=6),\n",
       "  \"normedRedfFlux\": Float32Col(shape=(), dflt=0.0, pos=7),\n",
       "  \"redshift\": Float32Col(shape=(), dflt=0.0, pos=8)}\n",
       "  byteorder := 'little'\n",
       "  chunkshape := (315,)"
      ]
     },
     "execution_count": 31,
     "metadata": {},
     "output_type": "execute_result"
    }
   ],
   "source": [
    "table"
   ]
  },
  {
   "cell_type": "code",
   "execution_count": 32,
   "id": "b2042443-df07-44ae-abef-31b85134cbb1",
   "metadata": {},
   "outputs": [],
   "source": [
    "# Finally, close the file (this also will flush all the remaining buffers!)\n",
    "fileh.close()    "
   ]
  },
  {
   "cell_type": "markdown",
   "id": "2b8095b9-7944-475a-ba95-c4866102bd11",
   "metadata": {},
   "source": [
    "# Read the HDF5 file"
   ]
  },
  {
   "cell_type": "code",
   "execution_count": 33,
   "id": "9551e7ba-5f38-4947-894f-7ab44cdad011",
   "metadata": {},
   "outputs": [],
   "source": [
    "# Open a file in \"w\"rite mode\n",
    "fileh5 = tb.open_file(fullfilename_galaxies_h5, mode = \"r\")"
   ]
  },
  {
   "cell_type": "code",
   "execution_count": 34,
   "id": "f5a57358-91ac-422b-bde5-bdcf3aef0af5",
   "metadata": {},
   "outputs": [
    {
     "data": {
      "text/plain": [
       "File(filename=./tmp/delight_data/galaxies-fluxredshifts.h5, title='', mode='r', root_uep='/', filters=Filters(complevel=0, shuffle=False, bitshuffle=False, fletcher32=False, least_significant_digit=None))\n",
       "/ (RootGroup) ''\n",
       "/training_catFile (Group) 'training galaxy catalog'\n",
       "/training_catFile/galaxies (Table(3755,)) ''\n",
       "  description := {\n",
       "  \"X\": Float32Col(shape=(6, 3), dflt=0.0, pos=0),\n",
       "  \"Y\": Float32Col(shape=(6, 1), dflt=0.0, pos=1),\n",
       "  \"Yvar\": Float32Col(shape=(6, 1), dflt=0.0, pos=2),\n",
       "  \"bands\": Int32Col(shape=(6,), dflt=0, pos=3),\n",
       "  \"fluxes\": Float32Col(shape=(6,), dflt=0.0, pos=4),\n",
       "  \"fluxesVar\": Float32Col(shape=(6,), dflt=0.0, pos=5),\n",
       "  \"idnumber\": Int64Col(shape=(), dflt=0, pos=6),\n",
       "  \"normedRedfFlux\": Float32Col(shape=(), dflt=0.0, pos=7),\n",
       "  \"redshift\": Float32Col(shape=(), dflt=0.0, pos=8)}\n",
       "  byteorder := 'little'\n",
       "  chunkshape := (315,)"
      ]
     },
     "execution_count": 34,
     "metadata": {},
     "output_type": "execute_result"
    }
   ],
   "source": [
    "fileh5 "
   ]
  },
  {
   "cell_type": "code",
   "execution_count": 35,
   "id": "117b5a71-2844-41e7-a23d-aeb8c9bf9103",
   "metadata": {},
   "outputs": [
    {
     "name": "stdout",
     "output_type": "stream",
     "text": [
      "./tmp/delight_data/galaxies-fluxredshifts.h5 (File) ''\n",
      "Last modif.: 'Sun Jan 23 15:56:12 2022'\n",
      "Object Tree: \n",
      "/ (RootGroup) ''\n",
      "/training_catFile (Group) 'training galaxy catalog'\n",
      "/training_catFile/galaxies (Table(3755,)) ''\n",
      "\n"
     ]
    }
   ],
   "source": [
    "print(fileh5)"
   ]
  },
  {
   "cell_type": "code",
   "execution_count": 36,
   "id": "940dcf55-9a24-4841-9e96-08a92818bbe9",
   "metadata": {},
   "outputs": [
    {
     "name": "stdout",
     "output_type": "stream",
     "text": [
      "/ (RootGroup) ''\n",
      "/training_catFile (Group) 'training galaxy catalog'\n",
      "/training_catFile/galaxies (Table(3755,)) ''\n"
     ]
    }
   ],
   "source": [
    "for node in fileh5:\n",
    "\n",
    "    print(node)"
   ]
  },
  {
   "cell_type": "code",
   "execution_count": 37,
   "id": "4526c504-a485-45ca-9779-6bc819670971",
   "metadata": {},
   "outputs": [
    {
     "name": "stdout",
     "output_type": "stream",
     "text": [
      "/training_catFile/galaxies (Table(3755,)) ''\n"
     ]
    }
   ],
   "source": [
    "for leaf in fileh5.root.training_catFile._f_walknodes('Leaf'):\n",
    "\n",
    "    print(leaf)"
   ]
  },
  {
   "cell_type": "code",
   "execution_count": 38,
   "id": "ba85ecee-d40a-4d15-9a64-05c7341bf2bb",
   "metadata": {},
   "outputs": [],
   "source": [
    "table = fileh5.root.training_catFile.galaxies"
   ]
  },
  {
   "cell_type": "code",
   "execution_count": 39,
   "id": "fe5a017d-419e-4597-b538-2ebf1d5855dd",
   "metadata": {},
   "outputs": [
    {
     "data": {
      "text/plain": [
       "/training_catFile/galaxies (Table(3755,)) ''\n",
       "  description := {\n",
       "  \"X\": Float32Col(shape=(6, 3), dflt=0.0, pos=0),\n",
       "  \"Y\": Float32Col(shape=(6, 1), dflt=0.0, pos=1),\n",
       "  \"Yvar\": Float32Col(shape=(6, 1), dflt=0.0, pos=2),\n",
       "  \"bands\": Int32Col(shape=(6,), dflt=0, pos=3),\n",
       "  \"fluxes\": Float32Col(shape=(6,), dflt=0.0, pos=4),\n",
       "  \"fluxesVar\": Float32Col(shape=(6,), dflt=0.0, pos=5),\n",
       "  \"idnumber\": Int64Col(shape=(), dflt=0, pos=6),\n",
       "  \"normedRedfFlux\": Float32Col(shape=(), dflt=0.0, pos=7),\n",
       "  \"redshift\": Float32Col(shape=(), dflt=0.0, pos=8)}\n",
       "  byteorder := 'little'\n",
       "  chunkshape := (315,)"
      ]
     },
     "execution_count": 39,
     "metadata": {},
     "output_type": "execute_result"
    }
   ],
   "source": [
    "table"
   ]
  },
  {
   "cell_type": "code",
   "execution_count": 40,
   "id": "0796d645-31bb-4103-ba30-8d472a60bd48",
   "metadata": {},
   "outputs": [
    {
     "name": "stdout",
     "output_type": "stream",
     "text": [
      "0 0.020434986799955368 3031650.75 [0 1 2 3 4 5] [1349.601  3647.5083 4841.5923 5544.076  5751.7773 5981.2397] [ 46.38848 332.90878 586.3952  768.9541  827.86597 895.94543]\n",
      "1 0.01936132274568081 81129.171875 [0 1 2 3 4 5] [ 50.132263 115.5027   135.77266  148.3635   152.33461  155.26332 ] [0.22932214 0.34490785 0.46987963 0.5672234  0.6261012  0.8124247 ]\n",
      "2 0.03672067075967789 228639.40625 [0 1 2 3 4 5] [ 40.32481 148.43153 290.04608 418.12015 582.0878  688.9323 ] [ 0.20209084  0.5637308   2.1169982   4.399594    8.5516815  12.171332  ]\n",
      "3 0.03946906328201294 432717.96875 [0 1 2 3 4 5] [226.8571  495.3165  668.28143 791.3251  846.67633 900.68335] [ 1.5444628  6.1640058 11.192628  15.702942  18.025972  20.626019 ]\n",
      "4 0.02699350193142891 61875.7265625 [0 1 2 3 4 5] [ 26.815632  70.67079   95.85882  113.154106 116.47627  122.56071 ] [0.17245781 0.13417406 0.23758131 0.335561   0.38236353 0.5795965 ]\n",
      "5 0.04294832795858383 13431.1494140625 [0 1 2 3 4 5] [ 2.633927  9.400407 17.415903 24.56197  28.71734  31.294716] [0.14221142 0.00875891 0.01324318 0.02696841 0.05716855 0.21278104]\n"
     ]
    }
   ],
   "source": [
    "idx = 0\n",
    "for r in table.iterrows():\n",
    "    print(r['idnumber'], r['redshift'], r[\"normedRedfFlux\"],r['bands'], r['fluxes'], r['fluxesVar'])\n",
    "    idx+=1\n",
    "    \n",
    "    if idx>5:\n",
    "        break"
   ]
  },
  {
   "cell_type": "code",
   "execution_count": 41,
   "id": "f1d07449-04b4-4493-8d3b-080a1841e3dd",
   "metadata": {},
   "outputs": [],
   "source": [
    "# Finally, close the file (this also will flush all the remaining buffers!)\n",
    "fileh.close()    "
   ]
  },
  {
   "cell_type": "code",
   "execution_count": null,
   "id": "670205ba-cb49-4200-8314-fb4bace64387",
   "metadata": {},
   "outputs": [],
   "source": []
  },
  {
   "cell_type": "code",
   "execution_count": null,
   "id": "1b1db2a9-60f2-4104-ac88-2038e5f66c0d",
   "metadata": {},
   "outputs": [],
   "source": []
  }
 ],
 "metadata": {
  "kernelspec": {
   "display_name": "python3_base",
   "language": "python",
   "name": "python3"
  },
  "language_info": {
   "codemirror_mode": {
    "name": "ipython",
    "version": 3
   },
   "file_extension": ".py",
   "mimetype": "text/x-python",
   "name": "python",
   "nbconvert_exporter": "python",
   "pygments_lexer": "ipython3",
   "version": "3.8.8"
  }
 },
 "nbformat": 4,
 "nbformat_minor": 5
}
